{
 "cells": [
  {
   "cell_type": "code",
   "execution_count": 23,
   "metadata": {
    "scrolled": true
   },
   "outputs": [],
   "source": [
    "import nocd\n",
    "from nocd.utils import *\n",
    "import matplotlib.pyplot as plt\n",
    "import numpy as np\n",
    "import scipy.sparse as sp\n",
    "import torch\n",
    "import torch.nn as nn\n",
    "import torch.nn.functional as F\n",
    "from nocd.nn import models_deep\n",
    "from nocd.utils import to_sparse_tensor\n",
    "from cdlib import evaluation\n",
    "from sklearn.preprocessing import normalize\n",
    "import networkx as nx\n",
    "\n",
    "%matplotlib inline\n",
    "\n",
    "torch.set_default_tensor_type(torch.cuda.FloatTensor)"
   ]
  },
  {
   "cell_type": "code",
   "execution_count": 24,
   "metadata": {},
   "outputs": [],
   "source": [
    "def mod_overlap(Z, G_w, thresh=0.5):\n",
    "    \n",
    "    from cdlib import NodeClustering\n",
    "    Z_pred = Z.cpu().detach().numpy() > thresh\n",
    "    \n",
    "    \n",
    "\n",
    "# communities = [[1,2,3], [4,5,6], [7,8,9,10,11]]\n",
    "    communities = coms_matrix_to_list(Z_pred)\n",
    "#     print(communities)\n",
    "    new_com = []\n",
    "    for ls in communities:\n",
    "        if(len(ls)==0):\n",
    "            continue\n",
    "        \n",
    "        new_com.append(ls)\n",
    "#     G_w =  nx.from_numpy_matrix(np.matrix(A_w), create_using=nx.DiGraph)\n",
    "   \n",
    "\n",
    "\n",
    "    coms = NodeClustering(new_com, G_w)\n",
    "\n",
    "    # from cdlib import algorithms\n",
    "    # import networkx as nx\n",
    "    # G = nx.karate_club_graph()\n",
    "    # coms = algorithms.danmf(G)\n",
    "    \n",
    "    mod = evaluation.modularity_overlap(G_w, coms)\n",
    "#     print(\"mod: \", mod)\n",
    "\n",
    "    return mod.score"
   ]
  },
  {
   "cell_type": "markdown",
   "metadata": {},
   "source": [
    "# Defining and training the model"
   ]
  },
  {
   "cell_type": "markdown",
   "metadata": {},
   "source": [
    "Load the dataset\n",
    " - `A` (adjacency matrix) is a `scipy.sparse.csr_matrix` of size `[N, N]`\n",
    " - `X` (attribute matrix) is a `scipy.sparse.csr_matrix` of size `[N, D]`\n",
    " - `Z_gt` (binary community affiliation matrix) is a `np.ndarray` of size `[N, K]`"
   ]
  },
  {
   "cell_type": "code",
   "execution_count": 25,
   "metadata": {},
   "outputs": [],
   "source": [
    "# loader = nocd.data.load_dataset('data/facebook_ego/fb_348.npz')\n",
    "# loader = nocd.data.load_dataset('data/facebook_ego/fb_414.npz')\n",
    "# loader = nocd.data.load_dataset('data/facebook_ego/fb_686.npz')\n",
    "# loader = nocd.data.load_dataset('data/facebook_ego/fb_698.npz')\n",
    "# loader = nocd.data.load_dataset('data/facebook_ego/fb_1684.npz')\n",
    "loader = nocd.data.load_dataset('data/facebook_ego/fb_1912.npz')\n",
    "\n",
    "\n",
    "\n",
    "# loader = nocd.data.load_dataset('data/mag_eng.npz')\n",
    "A, X, Z_gt = loader['A'], loader['X'], loader['Z']\n",
    "orG = nx.from_numpy_matrix(A.toarray())\n",
    "# _, G = nocd.nn.models_deep.augment_graph_neighbors_with_degree(A)\n",
    "N, K = Z_gt.shape\n"
   ]
  },
  {
   "cell_type": "code",
   "execution_count": 26,
   "metadata": {},
   "outputs": [
    {
     "name": "stdout",
     "output_type": "stream",
     "text": [
      "non sharing edges:  4915\n",
      "in total edges:  30025\n"
     ]
    }
   ],
   "source": [
    "'''\n",
    "We generate hybrid graphs which real world graphs with imputated weight. \n",
    "Weights are imputation based on the assumption that \n",
    "To nodes sharing more communities would have higher weight. \n",
    "Base Idea: for each edge if two nodes share a community add 1 to the weight:\n",
    "'''\n",
    "# A_w = nx.to_scipy_sparse_matrix(G_w,format='csr')\n",
    "# G_w =  nx.from_numpy_matrix(A_w.toarray(), create_using=nx.Graph)\n",
    "\n",
    "import networkx as nx\n",
    "\n",
    "def get_num_shared_community(u,v, Z, K):\n",
    "    count = 0\n",
    "    for k in range(K):\n",
    "        if(Z[u][k]>0 and Z[v][k]>0):\n",
    "            count +=1\n",
    "            \n",
    "    return count\n",
    "\n",
    "\n",
    "def weight_imputation(A, Z_gt):\n",
    "    Gw = nx.from_numpy_matrix(A, create_using = nx.Graph)\n",
    "    Z = Z_gt\n",
    "    N, K = Z_gt.shape\n",
    "    \n",
    "    edges = Gw.edges()\n",
    "    \n",
    "    count = 0\n",
    "    for pair in edges:\n",
    "        u, v = pair\n",
    "        \n",
    "        Gw[v][u]['weight']=Gw[u][v]['weight'] = int(get_num_shared_community(u,v, Z, K ) + 1)\n",
    "        if(Gw[v][u]['weight']==1):\n",
    "            count+=1\n",
    "            \n",
    "    print(\"non sharing edges: \", count)\n",
    "    print(\"in total edges: \", Gw.number_of_edges())\n",
    "        \n",
    "    \n",
    "    return Gw\n",
    "        \n",
    "        \n",
    "        \n",
    "        \n",
    "        \n",
    "Gw = weight_imputation(A, Z_gt) \n",
    "# orG = Gw\n",
    "Aw = nx.to_scipy_sparse_matrix(Gw,format='csr')\n",
    "# print(Aw[6])\n",
    "    \n",
    "    "
   ]
  },
  {
   "cell_type": "code",
   "execution_count": 27,
   "metadata": {},
   "outputs": [
    {
     "name": "stdout",
     "output_type": "stream",
     "text": [
      "max weight:  4\n"
     ]
    }
   ],
   "source": [
    "max_weight = 0\n",
    "for edge in Gw.edges(data=True):\n",
    "    _,_, weight = edge\n",
    "    max_weight = max(weight['weight'], max_weight)\n",
    "    \n",
    "print(\"max weight: \", max_weight)"
   ]
  },
  {
   "cell_type": "code",
   "execution_count": 28,
   "metadata": {},
   "outputs": [
    {
     "name": "stderr",
     "output_type": "stream",
     "text": [
      "100%|██████████| 755/755 [00:06<00:00, 110.55it/s]\n"
     ]
    },
    {
     "name": "stdout",
     "output_type": "stream",
     "text": [
      "old edges total:  30025\n",
      "new edges total:  62733\n"
     ]
    }
   ],
   "source": [
    "_, Gaug = nocd.nn.models_deep.augment_graph_weighted_facebook_random(A, k=2, G=Gw)\n",
    "\n",
    "print(\"old edges total: \", Gw.number_of_edges())\n",
    "print(\"new edges total: \", Gaug.number_of_edges())\n",
    "G = Gaug"
   ]
  },
  {
   "cell_type": "code",
   "execution_count": 29,
   "metadata": {},
   "outputs": [],
   "source": [
    "# X = sp.csr_matrix(np.eye(N,dtype=np.int32)) #NOCD-G"
   ]
  },
  {
   "cell_type": "markdown",
   "metadata": {},
   "source": [
    "Define the hyperparameters"
   ]
  },
  {
   "cell_type": "code",
   "execution_count": 30,
   "metadata": {},
   "outputs": [
    {
     "name": "stdout",
     "output_type": "stream",
     "text": [
      "N, edges:  755 60050\n"
     ]
    }
   ],
   "source": [
    "hidden_sizes = [128]    # hidden sizes of the GNN\n",
    "weight_decay = 1e-2     # strength of L2 regularization on GNN weights\n",
    "dropout = 0   # whether to use dropout\n",
    "batch_norm = True       # whether to use batch norm\n",
    "lr = 1e-3               # learning rate\n",
    "max_epochs = 500        # number of epochs to train\n",
    "display_step = 25       # how often to compute validation loss\n",
    "balance_loss = True     # whether to use balanced loss\n",
    "stochastic_loss = True  # whether to use stochastic or full-batch training\n",
    "batch_size = 20000      # batch size (only for stochastic training)\n",
    "layers_arr=[2,3,4,5,6,7]\n",
    "# layers_arr=[2,3,5,7, 10,15,30,40,50]\n",
    "print('N, edges: ', N, A.nnz)\n",
    "\n",
    "# top_n = max_epochs//100\n",
    "top_n = 5"
   ]
  },
  {
   "cell_type": "markdown",
   "metadata": {},
   "source": [
    "Select & normalize the feature matrix\n",
    "\n",
    "For some datasets where the features are very informative / correlated with the community structure it's better to use `X` as input (e.g. co-authorship networks w/ keywords as node features). Otherwise, you should try using `A` or `[A, X]` as input."
   ]
  },
  {
   "cell_type": "markdown",
   "metadata": {},
   "source": [
    "Define the GNN model"
   ]
  },
  {
   "cell_type": "code",
   "execution_count": 31,
   "metadata": {},
   "outputs": [],
   "source": [
    "def get_nmi(Z, thresh=0.5):\n",
    "    \"\"\"Compute Overlapping NMI of the communities predicted by the GNN.\"\"\"\n",
    "    \n",
    "    Z_pred = Z.cpu().detach().numpy() > thresh\n",
    "    nmi = nocd.metrics.overlapping_nmi(Z_pred, Z_gt)\n",
    "    return nmi"
   ]
  },
  {
   "attachments": {},
   "cell_type": "markdown",
   "metadata": {},
   "source": [
    "### Unsupervised Depth Search\n"
   ]
  },
  {
   "cell_type": "markdown",
   "metadata": {},
   "source": []
  },
  {
   "cell_type": "code",
   "execution_count": 32,
   "metadata": {
    "scrolled": true
   },
   "outputs": [
    {
     "name": "stdout",
     "output_type": "stream",
     "text": [
      "Epoch   24, loss.full = 0.3128, nmi = 0.28,                       mod =0.031075094565809338 layer=2\n",
      "Epoch   49, loss.full = 0.2414, nmi = 0.31,                       mod =0.028506196407383326 layer=2\n",
      "Epoch   74, loss.full = 0.2248, nmi = 0.35,                       mod =0.0246359950165909 layer=2\n",
      "Epoch   99, loss.full = 0.2167, nmi = 0.38,                       mod =0.03325666228631198 layer=2\n",
      "Epoch  124, loss.full = 0.2116, nmi = 0.38,                       mod =0.04152431378732687 layer=2\n",
      "Epoch  149, loss.full = 0.2079, nmi = 0.38,                       mod =0.04857693334334958 layer=2\n",
      "Epoch  174, loss.full = 0.2045, nmi = 0.38,                       mod =0.04598536223205122 layer=2\n",
      "Epoch  199, loss.full = 0.2018, nmi = 0.39,                       mod =0.04424519167342628 layer=2\n",
      "Epoch  224, loss.full = 0.1994, nmi = 0.38,                       mod =0.03725696514894692 layer=2\n",
      "Epoch  249, loss.full = 0.1971, nmi = 0.39,                       mod =0.022958393631859537 layer=2\n",
      "Epoch  274, loss.full = 0.1952, nmi = 0.39,                       mod =0.0235624497735357 layer=2\n",
      "Epoch  299, loss.full = 0.1940, nmi = 0.38,                       mod =0.025218321189201812 layer=2\n",
      "Epoch  324, loss.full = 0.1926, nmi = 0.38,                       mod =0.02302939239254092 layer=2\n",
      "Epoch  349, loss.full = 0.1915, nmi = 0.39,                       mod =0.03633118825749824 layer=2\n",
      "Epoch  374, loss.full = 0.1909, nmi = 0.40,                       mod =0.05450641437509971 layer=2\n",
      "Epoch  399, loss.full = 0.1902, nmi = 0.40,                       mod =0.06591821095539327 layer=2\n",
      "Epoch  424, loss.full = 0.1900, nmi = 0.41,                       mod =0.0680327513575899 layer=2\n",
      "Epoch  449, loss.full = 0.1888, nmi = 0.40,                       mod =0.06953092475044752 layer=2\n",
      "Epoch  474, loss.full = 0.1889, nmi = 0.40,                       mod =0.08289592700632721 layer=2\n",
      "Epoch  499, loss.full = 0.1881, nmi = 0.40,                       mod =0.0910343192909553 layer=2\n",
      "epoch:  501  top_n:  5\n",
      "top 5:  [0.0910343192909553, 0.08289592700632721, 0.06953092475044752, 0.0680327513575899, 0.06591821095539327]\n",
      "avg mod: 0.07548242667214264 at layer:  2\n",
      "Epoch   24, loss.full = 0.2694, nmi = 0.32,                       mod =0.03698004834392596 layer=3\n",
      "Epoch   49, loss.full = 0.2221, nmi = 0.34,                       mod =0.03680564872688432 layer=3\n",
      "Epoch   74, loss.full = 0.2154, nmi = 0.37,                       mod =0.04829963050092845 layer=3\n",
      "Epoch   99, loss.full = 0.2122, nmi = 0.38,                       mod =0.045436198383809044 layer=3\n",
      "Epoch  124, loss.full = 0.2096, nmi = 0.37,                       mod =0.05958608283878045 layer=3\n",
      "Epoch  149, loss.full = 0.2077, nmi = 0.40,                       mod =0.0675469990253762 layer=3\n",
      "Epoch  174, loss.full = 0.2042, nmi = 0.41,                       mod =0.06326771989085611 layer=3\n",
      "Epoch  199, loss.full = 0.2026, nmi = 0.39,                       mod =0.060684908368370274 layer=3\n",
      "Epoch  224, loss.full = 0.2012, nmi = 0.40,                       mod =0.06869675386330884 layer=3\n",
      "Epoch  249, loss.full = 0.1984, nmi = 0.39,                       mod =0.07184829897659632 layer=3\n",
      "Epoch  274, loss.full = 0.1981, nmi = 0.37,                       mod =0.10258076264240099 layer=3\n",
      "Epoch  299, loss.full = 0.1952, nmi = 0.37,                       mod =0.08554854132436977 layer=3\n",
      "Epoch  324, loss.full = 0.1998, nmi = 0.36,                       mod =0.09124336274122882 layer=3\n",
      "Epoch  349, loss.full = 0.1931, nmi = 0.38,                       mod =0.08180650202280705 layer=3\n",
      "Epoch  374, loss.full = 0.1921, nmi = 0.38,                       mod =0.08524539083544691 layer=3\n",
      "Epoch  399, loss.full = 0.1905, nmi = 0.38,                       mod =0.08517499530954949 layer=3\n",
      "Epoch  424, loss.full = 0.1902, nmi = 0.37,                       mod =0.10506385701887931 layer=3\n",
      "Epoch  449, loss.full = 0.1920, nmi = 0.38,                       mod =0.10019320114051053 layer=3\n",
      "Epoch  474, loss.full = 0.1909, nmi = 0.39,                       mod =0.10993956503924268 layer=3\n",
      "Epoch  499, loss.full = 0.1927, nmi = 0.39,                       mod =0.10403697251910421 layer=3\n",
      "epoch:  501  top_n:  5\n",
      "top 5:  [0.10993956503924268, 0.10506385701887931, 0.10403697251910421, 0.10258076264240099, 0.10019320114051053]\n",
      "avg mod: 0.10436287167202755 at layer:  3\n",
      "Epoch   24, loss.full = 0.2810, nmi = 0.33,                       mod =0.02327799193239957 layer=4\n",
      "Epoch   49, loss.full = 0.2339, nmi = 0.38,                       mod =0.048780121154863014 layer=4\n",
      "Epoch   74, loss.full = 0.2273, nmi = 0.39,                       mod =0.04384739144698883 layer=4\n",
      "Epoch   99, loss.full = 0.2249, nmi = 0.38,                       mod =0.030429397354800398 layer=4\n",
      "Epoch  124, loss.full = 0.2234, nmi = 0.39,                       mod =0.044464030376515154 layer=4\n",
      "Epoch  149, loss.full = 0.2221, nmi = 0.38,                       mod =0.05456957942670749 layer=4\n",
      "Epoch  174, loss.full = 0.2209, nmi = 0.38,                       mod =0.0565425376248614 layer=4\n",
      "Epoch  199, loss.full = 0.2195, nmi = 0.39,                       mod =0.054936398189904104 layer=4\n",
      "Epoch  224, loss.full = 0.2187, nmi = 0.39,                       mod =0.06519503380347474 layer=4\n",
      "Epoch  249, loss.full = 0.2178, nmi = 0.40,                       mod =0.08671011286531524 layer=4\n",
      "Epoch  274, loss.full = 0.2178, nmi = 0.41,                       mod =0.08941755402110987 layer=4\n",
      "Epoch  299, loss.full = 0.2163, nmi = 0.41,                       mod =0.09239860982912901 layer=4\n",
      "Epoch  324, loss.full = 0.2163, nmi = 0.41,                       mod =0.09321521886208387 layer=4\n",
      "Epoch  349, loss.full = 0.2149, nmi = 0.41,                       mod =0.094898467437195 layer=4\n",
      "Epoch  374, loss.full = 0.2163, nmi = 0.40,                       mod =0.09718776086099726 layer=4\n",
      "Epoch  399, loss.full = 0.2135, nmi = 0.39,                       mod =0.07560344307156226 layer=4\n",
      "Epoch  424, loss.full = 0.2130, nmi = 0.39,                       mod =0.09851095631891793 layer=4\n",
      "Epoch  449, loss.full = 0.2113, nmi = 0.39,                       mod =0.08557613498113341 layer=4\n",
      "Epoch  474, loss.full = 0.2091, nmi = 0.39,                       mod =0.09895415619805752 layer=4\n",
      "Epoch  499, loss.full = 0.2075, nmi = 0.39,                       mod =0.10459101724622558 layer=4\n",
      "epoch:  501  top_n:  5\n",
      "top 5:  [0.10459101724622558, 0.09895415619805752, 0.09851095631891793, 0.09718776086099726, 0.094898467437195]\n",
      "avg mod: 0.09882847161227866 at layer:  4\n",
      "Epoch   24, loss.full = 0.2571, nmi = 0.38,                       mod =0.031058758452514778 layer=5\n",
      "Epoch   49, loss.full = 0.2305, nmi = 0.39,                       mod =0.04568903675319203 layer=5\n",
      "Epoch   74, loss.full = 0.2268, nmi = 0.41,                       mod =0.0782641998355736 layer=5\n",
      "Epoch   99, loss.full = 0.2242, nmi = 0.39,                       mod =0.0823505779736575 layer=5\n",
      "Epoch  124, loss.full = 0.2226, nmi = 0.39,                       mod =0.07247501940722957 layer=5\n",
      "Epoch  149, loss.full = 0.2206, nmi = 0.38,                       mod =0.07493424771765159 layer=5\n",
      "Epoch  174, loss.full = 0.2198, nmi = 0.38,                       mod =0.06759889561323205 layer=5\n",
      "Epoch  199, loss.full = 0.2188, nmi = 0.38,                       mod =0.0824320805478517 layer=5\n",
      "Epoch  224, loss.full = 0.2183, nmi = 0.37,                       mod =0.08385518742359405 layer=5\n",
      "Epoch  249, loss.full = 0.2175, nmi = 0.38,                       mod =0.0835834749183102 layer=5\n",
      "Epoch  274, loss.full = 0.2170, nmi = 0.37,                       mod =0.07326876949101654 layer=5\n",
      "Epoch  299, loss.full = 0.2167, nmi = 0.37,                       mod =0.08974369002332296 layer=5\n",
      "Epoch  324, loss.full = 0.2161, nmi = 0.39,                       mod =0.08843352467922351 layer=5\n",
      "Epoch  349, loss.full = 0.2157, nmi = 0.39,                       mod =0.07228105712202543 layer=5\n",
      "Epoch  374, loss.full = 0.2157, nmi = 0.39,                       mod =0.09740955744196514 layer=5\n",
      "Epoch  399, loss.full = 0.2159, nmi = 0.39,                       mod =0.08264786992081785 layer=5\n",
      "Epoch  424, loss.full = 0.2148, nmi = 0.40,                       mod =0.06681918450512758 layer=5\n",
      "Epoch  449, loss.full = 0.2156, nmi = 0.41,                       mod =0.11808572202901348 layer=5\n"
     ]
    },
    {
     "name": "stdout",
     "output_type": "stream",
     "text": [
      "Epoch  474, loss.full = 0.2156, nmi = 0.39,                       mod =0.09079190416315751 layer=5\n",
      "Epoch  499, loss.full = 0.2148, nmi = 0.39,                       mod =0.09771475049912987 layer=5\n",
      "epoch:  501  top_n:  5\n",
      "top 5:  [0.11808572202901348, 0.09771475049912987, 0.09740955744196514, 0.09079190416315751, 0.08974369002332296]\n",
      "avg mod: 0.09874912483131779 at layer:  5\n",
      "Epoch   24, loss.full = 0.2545, nmi = 0.38,                       mod =0.034185269580828924 layer=6\n",
      "Epoch   49, loss.full = 0.2354, nmi = 0.41,                       mod =0.05368984208785204 layer=6\n",
      "Epoch   74, loss.full = 0.2316, nmi = 0.40,                       mod =0.05725350741336091 layer=6\n",
      "Epoch   99, loss.full = 0.2292, nmi = 0.41,                       mod =0.0608095406961898 layer=6\n",
      "Epoch  124, loss.full = 0.2266, nmi = 0.42,                       mod =0.10024541670087293 layer=6\n",
      "Epoch  149, loss.full = 0.2242, nmi = 0.40,                       mod =0.07808350049568208 layer=6\n",
      "Epoch  174, loss.full = 0.2239, nmi = 0.40,                       mod =0.08052075043980056 layer=6\n",
      "Epoch  199, loss.full = 0.2216, nmi = 0.40,                       mod =0.08162706219267153 layer=6\n",
      "Epoch  224, loss.full = 0.2210, nmi = 0.41,                       mod =0.06749685837633458 layer=6\n",
      "Epoch  249, loss.full = 0.2198, nmi = 0.41,                       mod =0.09355558671323333 layer=6\n",
      "Epoch  274, loss.full = 0.2190, nmi = 0.42,                       mod =0.09184381983629382 layer=6\n",
      "Epoch  299, loss.full = 0.2179, nmi = 0.43,                       mod =0.09499771362420001 layer=6\n",
      "Epoch  324, loss.full = 0.2174, nmi = 0.43,                       mod =0.11573757192368038 layer=6\n",
      "Epoch  349, loss.full = 0.2168, nmi = 0.45,                       mod =0.1343161466803662 layer=6\n",
      "Epoch  374, loss.full = 0.2166, nmi = 0.45,                       mod =0.13639686297705622 layer=6\n",
      "Epoch  399, loss.full = 0.2165, nmi = 0.45,                       mod =0.12725023912075623 layer=6\n",
      "Epoch  424, loss.full = 0.2186, nmi = 0.44,                       mod =0.10303754992333074 layer=6\n",
      "Epoch  449, loss.full = 0.2157, nmi = 0.45,                       mod =0.10319051112431955 layer=6\n",
      "Epoch  474, loss.full = 0.2163, nmi = 0.44,                       mod =0.12141608945221252 layer=6\n",
      "Epoch  499, loss.full = 0.2156, nmi = 0.43,                       mod =0.1040026595520697 layer=6\n",
      "epoch:  501  top_n:  5\n",
      "top 5:  [0.13639686297705622, 0.1343161466803662, 0.12725023912075623, 0.12141608945221252, 0.11573757192368038]\n",
      "avg mod: 0.1270233820308143 at layer:  6\n",
      "Epoch   24, loss.full = 0.2482, nmi = 0.35,                       mod =0.03798540666962082 layer=7\n",
      "Epoch   49, loss.full = 0.2362, nmi = 0.40,                       mod =0.04945705719508996 layer=7\n",
      "Epoch   74, loss.full = 0.2338, nmi = 0.39,                       mod =0.040589453736422115 layer=7\n",
      "Epoch   99, loss.full = 0.2317, nmi = 0.40,                       mod =0.07049675676163238 layer=7\n",
      "Epoch  124, loss.full = 0.2298, nmi = 0.44,                       mod =0.06908101063760788 layer=7\n",
      "Epoch  149, loss.full = 0.2281, nmi = 0.41,                       mod =0.10685363559719352 layer=7\n",
      "Epoch  174, loss.full = 0.2262, nmi = 0.43,                       mod =0.06965769239547984 layer=7\n",
      "Epoch  199, loss.full = 0.2249, nmi = 0.43,                       mod =0.044028661052515655 layer=7\n",
      "Epoch  224, loss.full = 0.2240, nmi = 0.41,                       mod =0.06453486092270139 layer=7\n",
      "Epoch  249, loss.full = 0.2229, nmi = 0.42,                       mod =0.08405548563972805 layer=7\n",
      "Epoch  274, loss.full = 0.2205, nmi = 0.40,                       mod =0.06825841874839196 layer=7\n",
      "Epoch  299, loss.full = 0.2186, nmi = 0.42,                       mod =0.08230544904994108 layer=7\n",
      "Epoch  324, loss.full = 0.2174, nmi = 0.43,                       mod =0.11987621126473443 layer=7\n",
      "Epoch  349, loss.full = 0.2169, nmi = 0.41,                       mod =0.08935617856510103 layer=7\n",
      "Epoch  374, loss.full = 0.2156, nmi = 0.42,                       mod =0.09491032547905744 layer=7\n",
      "Epoch  399, loss.full = 0.2151, nmi = 0.41,                       mod =0.11461407377292102 layer=7\n",
      "Epoch  424, loss.full = 0.2149, nmi = 0.41,                       mod =0.09975602753002008 layer=7\n",
      "Epoch  449, loss.full = 0.2142, nmi = 0.41,                       mod =0.11998886564621841 layer=7\n",
      "Epoch  474, loss.full = 0.2155, nmi = 0.41,                       mod =0.1468064338936366 layer=7\n",
      "Epoch  499, loss.full = 0.2139, nmi = 0.40,                       mod =0.11513336779577306 layer=7\n",
      "epoch:  501  top_n:  5\n",
      "top 5:  [0.1468064338936366, 0.11998886564621841, 0.11987621126473443, 0.11513336779577306, 0.11461407377292102]\n",
      "avg mod: 0.1232837904746567 at layer:  7\n",
      "stoped training, best nmi=0.4083269316443058, best_mod=0.1468064338936366,  at layer=7\n",
      "best avg mod=0.1270233820308143, best avg layer=6\n"
     ]
    }
   ],
   "source": [
    "\n",
    "best_Z = 0\n",
    "# best_nmi = 0\n",
    "best_loss = 99999999\n",
    "best_layer = 2\n",
    "best_mod = -9999999\n",
    "\n",
    "best_avg_mod = -9999999\n",
    "best_avg_layer = 2\n",
    "\n",
    "for layers in layers_arr:\n",
    "    \n",
    "#     weight_decay = weight_decay \n",
    "    \n",
    "    x_norm = normalize(X)  # node features\n",
    "    x_norm = nocd.utils.to_sparse_tensor(x_norm).cuda()\n",
    "\n",
    "    sampler = nocd.sampler.get_edge_sampler(A, batch_size, batch_size, num_workers=5)\n",
    "    gnn = nocd.nn.models_deep.GCNRes(x_norm.shape[1], hidden_sizes, K, batch_norm=batch_norm, dropout=dropout, layer_num=layers, g=G, d=2).cuda()\n",
    "    adj_norm = gnn.normalize_adj(A)\n",
    "    decoder = nocd.nn.BerpoDecoder(N, A.nnz, balance_loss=balance_loss)\n",
    "    opt = torch.optim.Adam(gnn.parameters(), lr=lr)\n",
    "\n",
    "    val_loss = np.inf\n",
    "    validation_fn = lambda: val_loss\n",
    "    early_stopping = nocd.train.NoImprovementStopping(validation_fn, patience=10)\n",
    "    model_saver = nocd.train.ModelSaver(gnn)\n",
    "    \n",
    "    avg_mod = 0\n",
    "    \n",
    "    all_mod = []\n",
    "\n",
    "    for epoch, batch in enumerate(sampler):\n",
    "        if epoch > max_epochs:\n",
    "            break\n",
    "        if (epoch+1) % 25 == 0:\n",
    "            with torch.no_grad():\n",
    "                gnn.eval()\n",
    "                # Compute validation loss\n",
    "                Z = F.relu(gnn(x_norm))\n",
    "                val_loss = decoder.loss_full(Z, A)\n",
    "                val=get_nmi(Z)\n",
    "                mod = mod_overlap(Z,orG)\n",
    "                \n",
    "                all_mod.append(mod)\n",
    "                avg_mod += mod\n",
    "#                 if(val_loss<best_loss):\n",
    "#                     best_loss = val_loss\n",
    "#                     best_nmi =val\n",
    "#                     best_Z = Z.detach().clone()\n",
    "#                     best_layer = layers\n",
    "\n",
    "                if(mod>best_mod):\n",
    "                    best_mod = mod\n",
    "                    best_Z = Z.detach().clone()\n",
    "                    best_layer = layers\n",
    "                    best_nmi = val\n",
    "                    \n",
    "                print(f'Epoch {epoch:4d}, loss.full = {val_loss:.4f}, nmi = {val:.2f}, \\\n",
    "                      mod ={mod} layer={layers}')\n",
    "\n",
    "                # Check if it's time for early stopping / to save the model\n",
    "                early_stopping.next_step()\n",
    "                if early_stopping.should_save():\n",
    "                    model_saver.save()\n",
    "                if early_stopping.should_stop():\n",
    "                    print(f'Breaking due to early stopping at epoch {epoch}')\n",
    "                    break\n",
    "\n",
    "        # Training step\n",
    "        gnn.train()\n",
    "        opt.zero_grad()\n",
    "        Z = F.relu(gnn(x_norm))\n",
    "        ones_idx, zeros_idx = batch\n",
    "        if stochastic_loss:\n",
    "            # loss = decoder.loss_batch(Z, ones_idx, zeros_idx)\n",
    "#             loss = decoder.loss_batch_triangles(Z, ones_idx, zeros_idx)\n",
    "#             print(f'Epoch {epoch:4d}, triangle loss = {loss:.4f}, nmi = {get_nmi(Z):.2f}')\n",
    "            loss = decoder.loss_batch(Z, ones_idx, zeros_idx)\n",
    "#             print(f'Epoh {epoch:4d}, edge loss = {loss1:.4f}, nmi = {get_nmi(Z):.2f}')\n",
    "#             loss =  loss +  loss1\n",
    "            # loss = (1/(0.01*epoch+1))* loss + loss1\n",
    "#             loss = 0.25 * loss + 0.75 * loss1\n",
    "\n",
    "#             print(f'Epoch {epoch:4d}, total loss = {loss:.4f}, nmi = {get_nmi(Z):.2f}')\n",
    "            # print(f'Epoch {epoch:4d}, (25, 75) total loss = {loss:.4f}, nmi = {get_nmi():.2f}')\n",
    "        else:\n",
    "            loss = decoder.loss_full(Z, A)\n",
    "        loss += nocd.utils.l2_reg_loss(gnn, scale=weight_decay)\n",
    "        loss.backward()\n",
    "        opt.step()\n",
    "        \n",
    "    all_mod.sort(reverse=True)\n",
    "    \n",
    "#     top_n = epoch//100\n",
    "    \n",
    "    print(\"epoch: \",epoch, \" top_n: \", top_n)\n",
    "    \n",
    "    avg_mod = sum(all_mod[:top_n])/top_n\n",
    "    print(\"top 5: \", all_mod[:top_n])\n",
    "    print(\"avg mod:\", avg_mod, \"at layer: \", layers)\n",
    "    if(avg_mod>best_avg_mod):\n",
    "        best_avg_mod = avg_mod\n",
    "        best_avg_layer = layers\n",
    "    \n",
    "#     Z = F.relu(gnn(x_norm))\n",
    "#     val=get_nmi(Z)\n",
    "#     if(val> best_nmi):\n",
    "#         best_nmi = val\n",
    "#         best_Z = Z.detach().clone()\n",
    "#         best_layer = layers\n",
    "print(f'stoped training, best nmi={best_nmi}, best_mod={best_mod},  at layer={best_layer}')\n",
    "print(f'best avg mod={best_avg_mod}, best avg layer={best_avg_layer}')\n",
    "\n"
   ]
  },
  {
   "cell_type": "code",
   "execution_count": 33,
   "metadata": {
    "scrolled": true
   },
   "outputs": [
    {
     "name": "stdout",
     "output_type": "stream",
     "text": [
      "stoped training, best nmi=0.4083269316443058, at layer=7\n"
     ]
    },
    {
     "data": {
      "image/png": "[encoded data removed]",
      "text/plain": [
       "<Figure size 640x480 with 1 Axes>"
      ]
     },
     "metadata": {},
     "output_type": "display_data"
    }
   ],
   "source": [
    "print(f'stoped training, best nmi={best_nmi}, at layer={best_layer}')\n",
    "\n",
    "plt.hist(best_Z[best_Z > 0].cpu().detach().numpy(), 100);"
   ]
  },
  {
   "cell_type": "code",
   "execution_count": 34,
   "metadata": {},
   "outputs": [
    {
     "name": "stdout",
     "output_type": "stream",
     "text": [
      "Final nmi = 0.321,           final_mod=0.05983367759956587 for thresh= 0.125\n",
      "Final nmi = 0.346,           final_mod=0.07309201692218321 for thresh= 0.3\n",
      "Final nmi = 0.368,           final_mod=0.0845346890100842 for thresh= 0.35\n",
      "Final nmi = 0.377,           final_mod=0.1081061139485379 for thresh= 0.4\n",
      "Final nmi = 0.408,           final_mod=0.1468064338936366 for thresh= 0.5\n",
      "Final nmi = 0.150,           final_mod=-0.006823482195116415 for thresh= 0.75\n",
      "Final nmi = 0.123,           final_mod=0.06416585434251129 for thresh= 0.8\n",
      "best_mod=0.1468064338936366, best_nmi=0.4083269316443058\n"
     ]
    }
   ],
   "source": [
    "threshs=[ 0.125, 0.3,0.35, 0.4, 0.5, 0.75, 0.80]\n",
    "best_mod = -99999\n",
    "for thresh in threshs:\n",
    "\n",
    "    \n",
    "    Z_pred = best_Z.cpu().detach().numpy() > thresh\n",
    "    mod = mod_overlap(best_Z, orG, thresh)\n",
    "#     model_saver.restore()\n",
    "    print(f'Final nmi = {get_nmi(best_Z,thresh):.3f}, \\\n",
    "          final_mod={mod} for thresh= {thresh}')\n",
    "    \n",
    "    if(mod>best_mod):\n",
    "        best_mod = mod\n",
    "        best_thresh = thresh\n",
    "        \n",
    "print(f'best_mod={best_mod}, best_nmi={best_nmi}')\n",
    "    "
   ]
  },
  {
   "cell_type": "code",
   "execution_count": 35,
   "metadata": {},
   "outputs": [],
   "source": [
    "\n",
    "hidden_sizes = [128]    # hidden sizes of the GNN\n",
    "weight_decay = 1e-2     # strength of L2 regularization on GNN weights\n",
    "dropout = 0       # whether to use dropout\n",
    "batch_norm = True       # whether to use batch norm\n",
    "lr = 1e-3               # learning rate\n",
    "max_epochs = 500       # number of epochs to train\n",
    "display_step = 5       # how often to compute validation loss\n",
    "balance_loss = True     # whether to use balanced loss\n",
    "stochastic_loss = True  # whether to use stochastic or full-batch training\n",
    "batch_size = 20000   \n",
    "\n",
    "\n",
    "import numpy as np\n",
    "niters = 50"
   ]
  },
  {
   "attachments": {},
   "cell_type": "markdown",
   "metadata": {},
   "source": [
    "### Evaluating the model on the best depth"
   ]
  },
  {
   "cell_type": "markdown",
   "metadata": {},
   "source": []
  },
  {
   "cell_type": "code",
   "execution_count": 36,
   "metadata": {},
   "outputs": [
    {
     "name": "stdout",
     "output_type": "stream",
     "text": [
      "best thresh:  0.5\n",
      "best_layer:  6\n"
     ]
    },
    {
     "name": "stderr",
     "output_type": "stream",
     "text": [
      "100%|██████████| 755/755 [00:17<00:00, 42.48it/s]\n"
     ]
    },
    {
     "name": "stdout",
     "output_type": "stream",
     "text": [
      "Epoch    0, loss.full = 1.3060, nmi = 0.24, mod=0.02096390726007789\n",
      "Epoch   25, loss.full = 0.2564, nmi = 0.36, mod=0.03545964279796094\n",
      "Epoch   50, loss.full = 0.2331, nmi = 0.35, mod=0.031015053981869902\n",
      "Epoch   75, loss.full = 0.2287, nmi = 0.34, mod=0.03303771217307119\n",
      "Epoch  100, loss.full = 0.2261, nmi = 0.35, mod=0.05408858396846042\n",
      "Epoch  125, loss.full = 0.2247, nmi = 0.34, mod=0.047330342526068346\n",
      "Epoch  150, loss.full = 0.2227, nmi = 0.35, mod=0.0728390170298913\n",
      "Epoch  175, loss.full = 0.2213, nmi = 0.37, mod=0.07927693996312095\n",
      "Epoch  200, loss.full = 0.2206, nmi = 0.37, mod=0.07828873992431995\n",
      "Epoch  225, loss.full = 0.2194, nmi = 0.39, mod=0.0826094091839845\n",
      "Epoch  250, loss.full = 0.2182, nmi = 0.36, mod=0.07886508560210721\n",
      "Epoch  275, loss.full = 0.2183, nmi = 0.38, mod=0.08584525312386686\n",
      "Epoch  300, loss.full = 0.2170, nmi = 0.39, mod=0.10122102948621087\n",
      "Epoch  325, loss.full = 0.2208, nmi = 0.39, mod=0.10892517918203928\n",
      "Epoch  350, loss.full = 0.2168, nmi = 0.36, mod=0.07893319732646496\n",
      "Epoch  375, loss.full = 0.2160, nmi = 0.38, mod=0.10439381469727609\n",
      "Epoch  400, loss.full = 0.2157, nmi = 0.39, mod=0.08373330357397547\n",
      "Epoch  425, loss.full = 0.2154, nmi = 0.40, mod=0.09721689856626246\n",
      "Epoch  450, loss.full = 0.2151, nmi = 0.40, mod=0.08728034236535491\n",
      "Epoch  475, loss.full = 0.2154, nmi = 0.40, mod=0.11348152808274177\n",
      "Epoch  500, loss.full = 0.2147, nmi = 0.40, mod=0.08609365122832734\n",
      "best nmi:  0.39757049781096626\n",
      "best mod:  0.11348152808274177\n",
      "last nmi:  0.3943535930532881\n",
      "iter:  0\n"
     ]
    },
    {
     "name": "stderr",
     "output_type": "stream",
     "text": [
      "100%|██████████| 755/755 [00:12<00:00, 62.00it/s]\n"
     ]
    },
    {
     "name": "stdout",
     "output_type": "stream",
     "text": [
      "Epoch    0, loss.full = 1.0729, nmi = 0.23, mod=0.014510114242713429\n",
      "Epoch   25, loss.full = 0.2415, nmi = 0.38, mod=0.05977983009214465\n",
      "Epoch   50, loss.full = 0.2320, nmi = 0.39, mod=0.06012291092473139\n",
      "Epoch   75, loss.full = 0.2285, nmi = 0.39, mod=0.04453349987759294\n",
      "Epoch  100, loss.full = 0.2256, nmi = 0.37, mod=0.08735303605315616\n",
      "Epoch  125, loss.full = 0.2229, nmi = 0.37, mod=0.06332844176307144\n",
      "Epoch  150, loss.full = 0.2210, nmi = 0.40, mod=0.05007771036975289\n",
      "Epoch  175, loss.full = 0.2206, nmi = 0.42, mod=0.08304111105175802\n",
      "Epoch  200, loss.full = 0.2192, nmi = 0.42, mod=0.09230987756382031\n",
      "Epoch  225, loss.full = 0.2187, nmi = 0.41, mod=0.11758996268173959\n",
      "Epoch  250, loss.full = 0.2174, nmi = 0.41, mod=0.14293018205320884\n",
      "Epoch  275, loss.full = 0.2185, nmi = 0.41, mod=0.1139770024776847\n",
      "Epoch  300, loss.full = 0.2164, nmi = 0.41, mod=0.07399695570378388\n",
      "Epoch  325, loss.full = 0.2156, nmi = 0.41, mod=0.0928336834171569\n",
      "Epoch  350, loss.full = 0.2153, nmi = 0.41, mod=0.06559940106666617\n",
      "Epoch  375, loss.full = 0.2148, nmi = 0.40, mod=0.07996025623802576\n",
      "Epoch  400, loss.full = 0.2144, nmi = 0.40, mod=0.07704591238817149\n",
      "Epoch  425, loss.full = 0.2151, nmi = 0.41, mod=0.06452752239113721\n",
      "Epoch  450, loss.full = 0.2139, nmi = 0.40, mod=0.05278022890145073\n",
      "Epoch  475, loss.full = 0.2138, nmi = 0.40, mod=0.08878588507279804\n",
      "Epoch  500, loss.full = 0.2131, nmi = 0.40, mod=0.0972428929181323\n",
      "best nmi:  0.4079291876356019\n",
      "best mod:  0.14293018205320884\n",
      "last nmi:  0.4058397659867557\n",
      "iter:  1\n"
     ]
    },
    {
     "name": "stderr",
     "output_type": "stream",
     "text": [
      "100%|██████████| 755/755 [00:03<00:00, 226.28it/s]\n"
     ]
    },
    {
     "name": "stdout",
     "output_type": "stream",
     "text": [
      "Epoch    0, loss.full = 1.2776, nmi = 0.23, mod=0.017614991114564892\n",
      "Epoch   25, loss.full = 0.2491, nmi = 0.37, mod=0.036519023396449746\n",
      "Epoch   50, loss.full = 0.2322, nmi = 0.39, mod=0.03717700572846974\n",
      "Epoch   75, loss.full = 0.2292, nmi = 0.38, mod=0.06522245394298493\n",
      "Epoch  100, loss.full = 0.2269, nmi = 0.37, mod=0.06595230370191793\n",
      "Epoch  125, loss.full = 0.2235, nmi = 0.37, mod=0.06774680152516432\n",
      "Epoch  150, loss.full = 0.2214, nmi = 0.38, mod=0.0639570308603377\n",
      "Epoch  175, loss.full = 0.2198, nmi = 0.39, mod=0.0820204903257799\n",
      "Epoch  200, loss.full = 0.2191, nmi = 0.39, mod=0.07449316254673048\n",
      "Epoch  225, loss.full = 0.2184, nmi = 0.38, mod=0.08271250102941412\n",
      "Epoch  250, loss.full = 0.2178, nmi = 0.37, mod=0.0903334576324537\n",
      "Epoch  275, loss.full = 0.2185, nmi = 0.39, mod=0.09100623937517857\n",
      "Epoch  300, loss.full = 0.2167, nmi = 0.38, mod=0.09332863727557922\n",
      "Epoch  325, loss.full = 0.2160, nmi = 0.38, mod=0.08988071194278385\n",
      "Epoch  350, loss.full = 0.2164, nmi = 0.39, mod=0.08965150798661978\n",
      "Epoch  375, loss.full = 0.2149, nmi = 0.39, mod=0.11056848679635994\n",
      "Epoch  400, loss.full = 0.2146, nmi = 0.39, mod=0.08671287085468625\n",
      "Epoch  425, loss.full = 0.2208, nmi = 0.38, mod=0.09961547027922799\n",
      "Epoch  450, loss.full = 0.2153, nmi = 0.38, mod=0.1131718178335752\n",
      "Epoch  475, loss.full = 0.2143, nmi = 0.38, mod=0.1224691903562917\n",
      "Epoch  500, loss.full = 0.2136, nmi = 0.39, mod=0.08466145587397146\n",
      "best nmi:  0.38331406964510134\n",
      "best mod:  0.1224691903562917\n",
      "last nmi:  0.3896602587028839\n",
      "iter:  2\n"
     ]
    },
    {
     "name": "stderr",
     "output_type": "stream",
     "text": [
      "100%|██████████| 755/755 [00:07<00:00, 97.78it/s] \n"
     ]
    },
    {
     "name": "stdout",
     "output_type": "stream",
     "text": [
      "Epoch    0, loss.full = 1.3431, nmi = 0.25, mod=0.017058337974465803\n",
      "Epoch   25, loss.full = 0.2467, nmi = 0.37, mod=0.054894037185547764\n",
      "Epoch   50, loss.full = 0.2316, nmi = 0.37, mod=0.051337801478453036\n",
      "Epoch   75, loss.full = 0.2287, nmi = 0.37, mod=0.06673314443490762\n",
      "Epoch  100, loss.full = 0.2262, nmi = 0.38, mod=0.06941684260678888\n",
      "Epoch  125, loss.full = 0.2243, nmi = 0.37, mod=0.07103685119529288\n",
      "Epoch  150, loss.full = 0.2223, nmi = 0.37, mod=0.058230512956927605\n",
      "Epoch  175, loss.full = 0.2230, nmi = 0.39, mod=0.05401706662586579\n",
      "Epoch  200, loss.full = 0.2208, nmi = 0.39, mod=0.057682270279143695\n",
      "Epoch  225, loss.full = 0.2199, nmi = 0.40, mod=0.052986474085019365\n",
      "Epoch  250, loss.full = 0.2193, nmi = 0.40, mod=0.09358401291591677\n",
      "Epoch  275, loss.full = 0.2186, nmi = 0.41, mod=0.1274812663384102\n",
      "Epoch  300, loss.full = 0.2181, nmi = 0.41, mod=0.09770432584840573\n",
      "Epoch  325, loss.full = 0.2174, nmi = 0.42, mod=0.135222494962616\n",
      "Epoch  350, loss.full = 0.2198, nmi = 0.41, mod=0.08918339601898133\n",
      "Epoch  375, loss.full = 0.2170, nmi = 0.40, mod=0.097220729765188\n",
      "Epoch  400, loss.full = 0.2163, nmi = 0.40, mod=0.10198845289624771\n",
      "Epoch  425, loss.full = 0.2153, nmi = 0.42, mod=0.1041532300543157\n",
      "Epoch  450, loss.full = 0.2151, nmi = 0.38, mod=0.09974880480706255\n",
      "Epoch  475, loss.full = 0.2144, nmi = 0.39, mod=0.11856691232660625\n",
      "Epoch  500, loss.full = 0.2156, nmi = 0.40, mod=0.10722205749953542\n",
      "best nmi:  0.42324998278802944\n",
      "best mod:  0.135222494962616\n",
      "last nmi:  0.387892490177095\n",
      "iter:  3\n"
     ]
    },
    {
     "name": "stderr",
     "output_type": "stream",
     "text": [
      "100%|██████████| 755/755 [00:16<00:00, 46.33it/s]\n"
     ]
    },
    {
     "name": "stdout",
     "output_type": "stream",
     "text": [
      "Epoch    0, loss.full = 1.3620, nmi = 0.26, mod=0.020415466274167758\n",
      "Epoch   25, loss.full = 0.2471, nmi = 0.39, mod=0.03650435736775769\n",
      "Epoch   50, loss.full = 0.2343, nmi = 0.39, mod=0.038693837229474996\n",
      "Epoch   75, loss.full = 0.2303, nmi = 0.39, mod=0.04706823121566673\n",
      "Epoch  100, loss.full = 0.2277, nmi = 0.40, mod=0.075145045863764\n",
      "Epoch  125, loss.full = 0.2260, nmi = 0.40, mod=0.0509301984622807\n",
      "Epoch  150, loss.full = 0.2244, nmi = 0.38, mod=0.05238920257301379\n",
      "Epoch  175, loss.full = 0.2236, nmi = 0.41, mod=0.0768826130626418\n",
      "Epoch  200, loss.full = 0.2223, nmi = 0.41, mod=0.11029432537496257\n",
      "Epoch  225, loss.full = 0.2214, nmi = 0.40, mod=0.09586597791500207\n",
      "Epoch  250, loss.full = 0.2211, nmi = 0.39, mod=0.06028616701458826\n",
      "Epoch  275, loss.full = 0.2213, nmi = 0.42, mod=0.10353204547382877\n",
      "Epoch  300, loss.full = 0.2189, nmi = 0.42, mod=0.08772770241880845\n",
      "Epoch  325, loss.full = 0.2176, nmi = 0.42, mod=0.11068918074157336\n",
      "Epoch  350, loss.full = 0.2175, nmi = 0.44, mod=0.13361730348929415\n",
      "Epoch  375, loss.full = 0.2163, nmi = 0.43, mod=0.10619683505605367\n",
      "Epoch  400, loss.full = 0.2158, nmi = 0.43, mod=0.09002431819104335\n",
      "Epoch  425, loss.full = 0.2158, nmi = 0.41, mod=0.11585153455623375\n",
      "Epoch  450, loss.full = 0.2155, nmi = 0.42, mod=0.10635048344298412\n",
      "Epoch  475, loss.full = 0.2147, nmi = 0.41, mod=0.0956342485009565\n",
      "Epoch  500, loss.full = 0.2145, nmi = 0.41, mod=0.08628079120500638\n",
      "best nmi:  0.43844491163216254\n",
      "best mod:  0.13361730348929415\n",
      "last nmi:  0.4094926571361565\n",
      "iter:  4\n"
     ]
    },
    {
     "name": "stderr",
     "output_type": "stream",
     "text": [
      "100%|██████████| 755/755 [00:13<00:00, 54.52it/s]\n"
     ]
    },
    {
     "name": "stdout",
     "output_type": "stream",
     "text": [
      "Epoch    0, loss.full = 1.4078, nmi = 0.27, mod=0.020643691632984667\n",
      "Epoch   25, loss.full = 0.2502, nmi = 0.37, mod=0.028694906669016227\n",
      "Epoch   50, loss.full = 0.2336, nmi = 0.40, mod=0.0347623608877331\n",
      "Epoch   75, loss.full = 0.2296, nmi = 0.39, mod=0.057665536132653385\n",
      "Epoch  100, loss.full = 0.2265, nmi = 0.39, mod=0.06402740694027\n",
      "Epoch  125, loss.full = 0.2233, nmi = 0.37, mod=0.03240412627589695\n",
      "Epoch  150, loss.full = 0.2222, nmi = 0.38, mod=0.04748703496440927\n",
      "Epoch  175, loss.full = 0.2209, nmi = 0.38, mod=0.06198761059597998\n",
      "Epoch  200, loss.full = 0.2202, nmi = 0.38, mod=0.052805171462373256\n",
      "Epoch  225, loss.full = 0.2196, nmi = 0.38, mod=0.0589758553379966\n",
      "Epoch  250, loss.full = 0.2193, nmi = 0.39, mod=0.07468159201647154\n",
      "Epoch  275, loss.full = 0.2188, nmi = 0.38, mod=0.07879973848441468\n",
      "Epoch  300, loss.full = 0.2188, nmi = 0.38, mod=0.06998322724037102\n",
      "Epoch  325, loss.full = 0.2174, nmi = 0.37, mod=0.0847775692640019\n",
      "Epoch  350, loss.full = 0.2174, nmi = 0.38, mod=0.10539244657351253\n",
      "Epoch  375, loss.full = 0.2165, nmi = 0.38, mod=0.10469322439563944\n",
      "Epoch  400, loss.full = 0.2166, nmi = 0.38, mod=0.10594062738743289\n",
      "Epoch  425, loss.full = 0.2158, nmi = 0.39, mod=0.09528908328303401\n",
      "Epoch  450, loss.full = 0.2154, nmi = 0.39, mod=0.09326239759635738\n",
      "Epoch  475, loss.full = 0.2176, nmi = 0.39, mod=0.11811205958943856\n",
      "Epoch  500, loss.full = 0.2155, nmi = 0.38, mod=0.08240034200237681\n",
      "best nmi:  0.3927816095996159\n",
      "best mod:  0.11811205958943856\n",
      "last nmi:  0.37823480615167543\n",
      "iter:  5\n"
     ]
    },
    {
     "name": "stderr",
     "output_type": "stream",
     "text": [
      "100%|██████████| 755/755 [00:10<00:00, 71.57it/s] \n"
     ]
    },
    {
     "name": "stdout",
     "output_type": "stream",
     "text": [
      "Epoch    0, loss.full = 1.3388, nmi = 0.25, mod=0.020103778785244407\n",
      "Epoch   25, loss.full = 0.2474, nmi = 0.37, mod=0.045597831758118455\n",
      "Epoch   50, loss.full = 0.2343, nmi = 0.36, mod=0.026866444682056123\n",
      "Epoch   75, loss.full = 0.2320, nmi = 0.38, mod=0.054850308694628806\n",
      "Epoch  100, loss.full = 0.2302, nmi = 0.38, mod=0.03892865600444433\n",
      "Epoch  125, loss.full = 0.2284, nmi = 0.41, mod=0.0825164631605014\n",
      "Epoch  150, loss.full = 0.2270, nmi = 0.41, mod=0.0897683764706158\n",
      "Epoch  175, loss.full = 0.2256, nmi = 0.41, mod=0.09374956604379713\n",
      "Epoch  200, loss.full = 0.2243, nmi = 0.40, mod=0.07748908452012589\n",
      "Epoch  225, loss.full = 0.2225, nmi = 0.40, mod=0.09892116949684567\n",
      "Epoch  250, loss.full = 0.2213, nmi = 0.40, mod=0.052481563775981496\n",
      "Epoch  275, loss.full = 0.2209, nmi = 0.40, mod=0.10519005411209588\n",
      "Epoch  300, loss.full = 0.2199, nmi = 0.39, mod=0.08525788722402615\n",
      "Epoch  325, loss.full = 0.2197, nmi = 0.39, mod=0.07780017263793455\n",
      "Epoch  350, loss.full = 0.2190, nmi = 0.39, mod=0.08911813785712366\n",
      "Epoch  375, loss.full = 0.2178, nmi = 0.40, mod=0.1215716492771727\n",
      "Epoch  400, loss.full = 0.2271, nmi = 0.36, mod=0.09925252555675433\n",
      "Epoch  425, loss.full = 0.2178, nmi = 0.38, mod=0.0928613251698643\n",
      "Epoch  450, loss.full = 0.2167, nmi = 0.39, mod=0.11893803827184066\n",
      "Epoch  475, loss.full = 0.2162, nmi = 0.38, mod=0.11722036592026257\n",
      "Epoch  500, loss.full = 0.2156, nmi = 0.37, mod=0.10206743690478996\n",
      "best nmi:  0.39851604817845987\n",
      "best mod:  0.1215716492771727\n",
      "last nmi:  0.3739941693992448\n",
      "iter:  6\n"
     ]
    },
    {
     "name": "stderr",
     "output_type": "stream",
     "text": [
      "100%|██████████| 755/755 [00:11<00:00, 67.63it/s] \n"
     ]
    },
    {
     "name": "stdout",
     "output_type": "stream",
     "text": [
      "Epoch    0, loss.full = 1.6800, nmi = 0.26, mod=0.020668123902761498\n",
      "Epoch   25, loss.full = 0.2536, nmi = 0.37, mod=0.029198677183072518\n",
      "Epoch   50, loss.full = 0.2344, nmi = 0.39, mod=0.056146434107365875\n",
      "Epoch   75, loss.full = 0.2303, nmi = 0.37, mod=0.05178487867782463\n",
      "Epoch  100, loss.full = 0.2281, nmi = 0.38, mod=0.07259058737635306\n",
      "Epoch  125, loss.full = 0.2256, nmi = 0.37, mod=0.05434250363785881\n",
      "Epoch  150, loss.full = 0.2238, nmi = 0.37, mod=0.07623345360136859\n",
      "Epoch  175, loss.full = 0.2227, nmi = 0.38, mod=0.0682523153932451\n",
      "Epoch  200, loss.full = 0.2212, nmi = 0.38, mod=0.07490445647522191\n",
      "Epoch  225, loss.full = 0.2205, nmi = 0.38, mod=0.08195716729355071\n",
      "Epoch  250, loss.full = 0.2197, nmi = 0.39, mod=0.08243886609158944\n",
      "Epoch  275, loss.full = 0.2190, nmi = 0.41, mod=0.08672377887862451\n",
      "Epoch  300, loss.full = 0.2186, nmi = 0.41, mod=0.0958402127700508\n",
      "Epoch  325, loss.full = 0.2176, nmi = 0.42, mod=0.062350396477719595\n",
      "Epoch  350, loss.full = 0.2178, nmi = 0.42, mod=0.08290941689352356\n",
      "Epoch  375, loss.full = 0.2164, nmi = 0.41, mod=0.08048530114805533\n",
      "Epoch  400, loss.full = 0.2163, nmi = 0.41, mod=0.06998932343901725\n",
      "Epoch  425, loss.full = 0.2161, nmi = 0.41, mod=0.08048328367779209\n",
      "Epoch  450, loss.full = 0.2217, nmi = 0.40, mod=0.06508576428326135\n",
      "Epoch  475, loss.full = 0.2176, nmi = 0.41, mod=0.08063926475402523\n",
      "Epoch  500, loss.full = 0.2162, nmi = 0.39, mod=0.10243631506746821\n",
      "best nmi:  0.39420557858507266\n",
      "best mod:  0.10243631506746821\n",
      "last nmi:  0.394049411001873\n",
      "iter:  7\n"
     ]
    },
    {
     "name": "stderr",
     "output_type": "stream",
     "text": [
      "100%|██████████| 755/755 [00:11<00:00, 64.04it/s]\n"
     ]
    },
    {
     "name": "stdout",
     "output_type": "stream",
     "text": [
      "Epoch    0, loss.full = 1.3090, nmi = 0.29, mod=0.016477594746898055\n",
      "Epoch   25, loss.full = 0.2477, nmi = 0.38, mod=0.03810731652148212\n",
      "Epoch   50, loss.full = 0.2330, nmi = 0.40, mod=0.038107611609770234\n",
      "Epoch   75, loss.full = 0.2298, nmi = 0.39, mod=0.046505948184162774\n",
      "Epoch  100, loss.full = 0.2274, nmi = 0.39, mod=0.042773513269248525\n",
      "Epoch  125, loss.full = 0.2247, nmi = 0.42, mod=0.06758316380387817\n",
      "Epoch  150, loss.full = 0.2234, nmi = 0.41, mod=0.062318050451922916\n",
      "Epoch  175, loss.full = 0.2232, nmi = 0.41, mod=0.049784135848785195\n",
      "Epoch  200, loss.full = 0.2208, nmi = 0.40, mod=0.07397206341311977\n",
      "Epoch  225, loss.full = 0.2185, nmi = 0.40, mod=0.05848428650346006\n",
      "Epoch  250, loss.full = 0.2177, nmi = 0.40, mod=0.06304775857444352\n",
      "Epoch  275, loss.full = 0.2168, nmi = 0.40, mod=0.09473510962028811\n",
      "Epoch  300, loss.full = 0.2153, nmi = 0.39, mod=0.09058716149154467\n",
      "Epoch  325, loss.full = 0.2151, nmi = 0.39, mod=0.09640640323393677\n",
      "Epoch  350, loss.full = 0.2148, nmi = 0.39, mod=0.07550436433266873\n",
      "Epoch  375, loss.full = 0.2140, nmi = 0.37, mod=0.1136408976675912\n",
      "Epoch  400, loss.full = 0.2138, nmi = 0.38, mod=0.1036939130665201\n",
      "Epoch  425, loss.full = 0.2135, nmi = 0.38, mod=0.09216144468408817\n",
      "Epoch  450, loss.full = 0.2134, nmi = 0.39, mod=0.09851832390617427\n",
      "Epoch  475, loss.full = 0.2131, nmi = 0.39, mod=0.10358907246329886\n",
      "Epoch  500, loss.full = 0.2126, nmi = 0.39, mod=0.0964319188321689\n",
      "best nmi:  0.37275981970084276\n",
      "best mod:  0.1136408976675912\n",
      "last nmi:  0.39147869259015106\n",
      "iter:  8\n"
     ]
    },
    {
     "name": "stderr",
     "output_type": "stream",
     "text": [
      "100%|██████████| 755/755 [00:11<00:00, 64.72it/s]\n"
     ]
    },
    {
     "name": "stdout",
     "output_type": "stream",
     "text": [
      "Epoch    0, loss.full = 1.3661, nmi = 0.25, mod=0.02137205785179891\n",
      "Epoch   25, loss.full = 0.2475, nmi = 0.37, mod=0.04188770358582467\n",
      "Epoch   50, loss.full = 0.2309, nmi = 0.37, mod=0.03962360233405314\n",
      "Epoch   75, loss.full = 0.2262, nmi = 0.40, mod=0.0642839372872541\n",
      "Epoch  100, loss.full = 0.2275, nmi = 0.38, mod=0.04060062643838018\n",
      "Epoch  125, loss.full = 0.2228, nmi = 0.39, mod=0.046589325277988335\n",
      "Epoch  150, loss.full = 0.2218, nmi = 0.39, mod=0.06458657372510988\n",
      "Epoch  175, loss.full = 0.2212, nmi = 0.38, mod=0.06322850845009804\n",
      "Epoch  200, loss.full = 0.2205, nmi = 0.39, mod=0.05859227267737031\n",
      "Epoch  225, loss.full = 0.2201, nmi = 0.40, mod=0.06892886667259288\n",
      "Epoch  250, loss.full = 0.2198, nmi = 0.40, mod=0.07199307477490584\n",
      "Epoch  275, loss.full = 0.2191, nmi = 0.39, mod=0.07896838193575716\n",
      "Epoch  300, loss.full = 0.2181, nmi = 0.39, mod=0.0717955033457223\n",
      "Epoch  325, loss.full = 0.2185, nmi = 0.40, mod=0.08038558595999919\n",
      "Epoch  350, loss.full = 0.2173, nmi = 0.39, mod=0.06176608649383868\n",
      "Epoch  375, loss.full = 0.2168, nmi = 0.39, mod=0.10484066988822936\n",
      "Epoch  400, loss.full = 0.2164, nmi = 0.39, mod=0.09812468977235823\n",
      "Epoch  425, loss.full = 0.2173, nmi = 0.39, mod=0.09013505911204373\n",
      "Epoch  450, loss.full = 0.2159, nmi = 0.40, mod=0.1254586694285697\n",
      "Epoch  475, loss.full = 0.2154, nmi = 0.39, mod=0.1269654549288481\n",
      "Epoch  500, loss.full = 0.2155, nmi = 0.40, mod=0.11694777731394809\n",
      "best nmi:  0.39310350080285833\n",
      "best mod:  0.1269654549288481\n",
      "last nmi:  0.39684104065484666\n",
      "iter:  9\n"
     ]
    },
    {
     "name": "stderr",
     "output_type": "stream",
     "text": [
      "100%|██████████| 755/755 [00:10<00:00, 70.17it/s] \n"
     ]
    },
    {
     "name": "stdout",
     "output_type": "stream",
     "text": [
      "Epoch    0, loss.full = 1.3069, nmi = 0.22, mod=0.022404760745686935\n",
      "Epoch   25, loss.full = 0.2450, nmi = 0.35, mod=0.031842061276274355\n",
      "Epoch   50, loss.full = 0.2339, nmi = 0.36, mod=0.042639285524081416\n",
      "Epoch   75, loss.full = 0.2304, nmi = 0.37, mod=0.0737675728407803\n",
      "Epoch  100, loss.full = 0.2280, nmi = 0.37, mod=0.0645714623027426\n",
      "Epoch  125, loss.full = 0.2243, nmi = 0.38, mod=0.07367454837827035\n",
      "Epoch  150, loss.full = 0.2221, nmi = 0.39, mod=0.07943716031827806\n",
      "Epoch  175, loss.full = 0.2210, nmi = 0.38, mod=0.06298746853119692\n",
      "Epoch  200, loss.full = 0.2204, nmi = 0.37, mod=0.07255104895328722\n",
      "Epoch  225, loss.full = 0.2194, nmi = 0.39, mod=0.061946002274783966\n",
      "Epoch  250, loss.full = 0.2186, nmi = 0.39, mod=0.08685564471699746\n",
      "Epoch  275, loss.full = 0.2188, nmi = 0.39, mod=0.08521546636387543\n",
      "Epoch  300, loss.full = 0.2175, nmi = 0.37, mod=0.06329192826652252\n",
      "Epoch  325, loss.full = 0.2169, nmi = 0.39, mod=0.07448007761207234\n",
      "Epoch  350, loss.full = 0.2164, nmi = 0.38, mod=0.06773067896155827\n",
      "Epoch  375, loss.full = 0.2157, nmi = 0.40, mod=0.07672417483577006\n",
      "Epoch  400, loss.full = 0.2192, nmi = 0.40, mod=0.06865267481884146\n",
      "Epoch  425, loss.full = 0.2159, nmi = 0.39, mod=0.053921916643626944\n",
      "Epoch  450, loss.full = 0.2151, nmi = 0.39, mod=0.07685956184845867\n",
      "Epoch  475, loss.full = 0.2159, nmi = 0.39, mod=0.06701788440132096\n",
      "Epoch  500, loss.full = 0.2147, nmi = 0.40, mod=0.06632281751747562\n",
      "best nmi:  0.39156280191384696\n",
      "best mod:  0.08685564471699746\n",
      "last nmi:  0.3936673908659773\n",
      "iter:  10\n"
     ]
    },
    {
     "name": "stderr",
     "output_type": "stream",
     "text": [
      "100%|██████████| 755/755 [00:12<00:00, 60.53it/s]\n"
     ]
    },
    {
     "name": "stdout",
     "output_type": "stream",
     "text": [
      "Epoch    0, loss.full = 1.4000, nmi = 0.24, mod=0.018318998258150414\n",
      "Epoch   25, loss.full = 0.2470, nmi = 0.35, mod=0.03299231963680502\n",
      "Epoch   50, loss.full = 0.2328, nmi = 0.35, mod=0.04114928694943302\n",
      "Epoch   75, loss.full = 0.2305, nmi = 0.37, mod=0.0464163427422715\n",
      "Epoch  100, loss.full = 0.2283, nmi = 0.38, mod=0.07171397328895006\n",
      "Epoch  125, loss.full = 0.2262, nmi = 0.37, mod=0.09614651240096422\n",
      "Epoch  150, loss.full = 0.2248, nmi = 0.37, mod=0.06251420591823402\n",
      "Epoch  175, loss.full = 0.2236, nmi = 0.37, mod=0.08674197480260798\n",
      "Epoch  200, loss.full = 0.2228, nmi = 0.38, mod=0.08469197407369075\n",
      "Epoch  225, loss.full = 0.2219, nmi = 0.37, mod=0.09752323740296634\n",
      "Epoch  250, loss.full = 0.2201, nmi = 0.36, mod=0.0891161442834286\n",
      "Epoch  275, loss.full = 0.2192, nmi = 0.36, mod=0.08428916360888666\n",
      "Epoch  300, loss.full = 0.2192, nmi = 0.36, mod=0.08633180844993664\n",
      "Epoch  325, loss.full = 0.2183, nmi = 0.36, mod=0.10171258017212373\n",
      "Epoch  350, loss.full = 0.2170, nmi = 0.36, mod=0.07714285175954293\n",
      "Epoch  375, loss.full = 0.2169, nmi = 0.36, mod=0.06153575946981116\n",
      "Epoch  400, loss.full = 0.2188, nmi = 0.37, mod=0.08480564709661201\n",
      "Epoch  425, loss.full = 0.2155, nmi = 0.37, mod=0.08228294925790991\n",
      "Epoch  450, loss.full = 0.2148, nmi = 0.36, mod=0.0916161983347682\n",
      "Epoch  475, loss.full = 0.2145, nmi = 0.36, mod=0.07931883151070555\n",
      "Epoch  500, loss.full = 0.2144, nmi = 0.36, mod=0.09142626280182921\n",
      "best nmi:  0.36487020799494124\n",
      "best mod:  0.10171258017212373\n",
      "last nmi:  0.3599027783353926\n",
      "iter:  11\n"
     ]
    },
    {
     "name": "stderr",
     "output_type": "stream",
     "text": [
      "100%|██████████| 755/755 [00:11<00:00, 67.38it/s] \n"
     ]
    },
    {
     "name": "stdout",
     "output_type": "stream",
     "text": [
      "Epoch    0, loss.full = 1.3180, nmi = 0.27, mod=0.02083207113558764\n",
      "Epoch   25, loss.full = 0.2474, nmi = 0.37, mod=0.03319298343948574\n",
      "Epoch   50, loss.full = 0.2343, nmi = 0.40, mod=0.02801357059287349\n",
      "Epoch   75, loss.full = 0.2315, nmi = 0.41, mod=0.07122442126159866\n",
      "Epoch  100, loss.full = 0.2294, nmi = 0.39, mod=0.07427647393750403\n",
      "Epoch  125, loss.full = 0.2266, nmi = 0.41, mod=0.10289943204203034\n",
      "Epoch  150, loss.full = 0.2263, nmi = 0.38, mod=0.09047127020398052\n",
      "Epoch  175, loss.full = 0.2245, nmi = 0.38, mod=0.09748792201573983\n",
      "Epoch  200, loss.full = 0.2233, nmi = 0.38, mod=0.1266707608833541\n",
      "Epoch  225, loss.full = 0.2201, nmi = 0.38, mod=0.10795541287061948\n",
      "Epoch  250, loss.full = 0.2188, nmi = 0.40, mod=0.1380001553984728\n",
      "Epoch  275, loss.full = 0.2184, nmi = 0.41, mod=0.11553273457447875\n",
      "Epoch  300, loss.full = 0.2180, nmi = 0.41, mod=0.09352044702837255\n",
      "Epoch  325, loss.full = 0.2173, nmi = 0.40, mod=0.09887338262222324\n",
      "Epoch  350, loss.full = 0.2169, nmi = 0.40, mod=0.09137361033362613\n",
      "Epoch  375, loss.full = 0.2166, nmi = 0.40, mod=0.07845657542030277\n",
      "Epoch  400, loss.full = 0.2165, nmi = 0.39, mod=0.09109819107936382\n",
      "Epoch  425, loss.full = 0.2161, nmi = 0.39, mod=0.08920238691164127\n",
      "Epoch  450, loss.full = 0.2149, nmi = 0.38, mod=0.0887951403862696\n",
      "Epoch  475, loss.full = 0.2149, nmi = 0.39, mod=0.07380303155400923\n",
      "Epoch  500, loss.full = 0.2148, nmi = 0.39, mod=0.08450764347215145\n",
      "best nmi:  0.3996031829878872\n",
      "best mod:  0.1380001553984728\n",
      "last nmi:  0.3882397459710837\n",
      "iter:  12\n"
     ]
    },
    {
     "name": "stderr",
     "output_type": "stream",
     "text": [
      "100%|██████████| 755/755 [00:08<00:00, 92.22it/s] \n"
     ]
    },
    {
     "name": "stdout",
     "output_type": "stream",
     "text": [
      "Epoch    0, loss.full = 1.3042, nmi = 0.26, mod=0.01460768050877532\n",
      "Epoch   25, loss.full = 0.2518, nmi = 0.35, mod=0.03430836684414606\n",
      "Epoch   50, loss.full = 0.2363, nmi = 0.38, mod=0.020927053289646065\n",
      "Epoch   75, loss.full = 0.2321, nmi = 0.36, mod=0.038352052455844304\n",
      "Epoch  100, loss.full = 0.2285, nmi = 0.37, mod=0.05536430133463995\n",
      "Epoch  125, loss.full = 0.2251, nmi = 0.35, mod=0.05162424005635074\n",
      "Epoch  150, loss.full = 0.2223, nmi = 0.36, mod=0.053718098068320744\n",
      "Epoch  175, loss.full = 0.2210, nmi = 0.37, mod=0.06069094786476959\n",
      "Epoch  200, loss.full = 0.2208, nmi = 0.36, mod=0.06400689909498895\n",
      "Epoch  225, loss.full = 0.2191, nmi = 0.36, mod=0.06959613491835734\n",
      "Epoch  250, loss.full = 0.2193, nmi = 0.36, mod=0.06359824355583066\n",
      "Epoch  275, loss.full = 0.2185, nmi = 0.36, mod=0.07573558662338492\n",
      "Epoch  300, loss.full = 0.2176, nmi = 0.36, mod=0.07502162101017906\n",
      "Epoch  325, loss.full = 0.2173, nmi = 0.36, mod=0.0843536944962571\n",
      "Epoch  350, loss.full = 0.2182, nmi = 0.37, mod=0.09267732019061467\n",
      "Epoch  375, loss.full = 0.2173, nmi = 0.38, mod=0.08402318214858112\n",
      "Epoch  400, loss.full = 0.2163, nmi = 0.38, mod=0.11618425739729016\n",
      "Epoch  425, loss.full = 0.2158, nmi = 0.37, mod=0.09825157946093421\n",
      "Epoch  450, loss.full = 0.2157, nmi = 0.38, mod=0.11159615177722944\n",
      "Epoch  475, loss.full = 0.2150, nmi = 0.38, mod=0.09230236768048931\n",
      "Epoch  500, loss.full = 0.2150, nmi = 0.39, mod=0.10707131268656775\n",
      "best nmi:  0.3813354056749244\n",
      "best mod:  0.11618425739729016\n",
      "last nmi:  0.3969779312449961\n",
      "iter:  13\n"
     ]
    },
    {
     "name": "stderr",
     "output_type": "stream",
     "text": [
      "100%|██████████| 755/755 [00:10<00:00, 73.91it/s] \n"
     ]
    },
    {
     "name": "stdout",
     "output_type": "stream",
     "text": [
      "Epoch    0, loss.full = 1.4479, nmi = 0.26, mod=0.01980932253323538\n",
      "Epoch   25, loss.full = 0.2513, nmi = 0.36, mod=0.029732991684878154\n",
      "Epoch   50, loss.full = 0.2342, nmi = 0.38, mod=0.035043583126973685\n",
      "Epoch   75, loss.full = 0.2311, nmi = 0.39, mod=0.04145243422969772\n",
      "Epoch  100, loss.full = 0.2287, nmi = 0.40, mod=0.06277474188582656\n",
      "Epoch  125, loss.full = 0.2265, nmi = 0.40, mod=0.07110607919686433\n",
      "Epoch  150, loss.full = 0.2254, nmi = 0.41, mod=0.061621199622975804\n",
      "Epoch  175, loss.full = 0.2237, nmi = 0.39, mod=0.06931642869390917\n",
      "Epoch  200, loss.full = 0.2225, nmi = 0.40, mod=0.08536926667370048\n",
      "Epoch  225, loss.full = 0.2216, nmi = 0.40, mod=0.06643835510589001\n",
      "Epoch  250, loss.full = 0.2198, nmi = 0.39, mod=0.0530829592772911\n",
      "Epoch  275, loss.full = 0.2187, nmi = 0.39, mod=0.07759111479865306\n",
      "Epoch  300, loss.full = 0.2178, nmi = 0.39, mod=0.07874266894779673\n",
      "Epoch  325, loss.full = 0.2175, nmi = 0.39, mod=0.08161651723850413\n",
      "Epoch  350, loss.full = 0.2171, nmi = 0.40, mod=0.08890615398763409\n",
      "Epoch  375, loss.full = 0.2167, nmi = 0.40, mod=0.0803761200247217\n",
      "Epoch  400, loss.full = 0.2160, nmi = 0.39, mod=0.07035807352853775\n",
      "Epoch  425, loss.full = 0.2154, nmi = 0.40, mod=0.0767497712198299\n",
      "Epoch  450, loss.full = 0.2154, nmi = 0.39, mod=0.07989966601403418\n",
      "Epoch  475, loss.full = 0.2147, nmi = 0.40, mod=0.0915187076720443\n",
      "Epoch  500, loss.full = 0.2153, nmi = 0.40, mod=0.07006660060346503\n",
      "best nmi:  0.3963306723560858\n",
      "best mod:  0.0915187076720443\n",
      "last nmi:  0.39551111201945155\n",
      "iter:  14\n"
     ]
    },
    {
     "name": "stderr",
     "output_type": "stream",
     "text": [
      "100%|██████████| 755/755 [00:10<00:00, 69.91it/s] \n"
     ]
    },
    {
     "name": "stdout",
     "output_type": "stream",
     "text": [
      "Epoch    0, loss.full = 1.3406, nmi = 0.25, mod=0.019032918383586197\n",
      "Epoch   25, loss.full = 0.2450, nmi = 0.35, mod=0.03468213675855998\n",
      "Epoch   50, loss.full = 0.2326, nmi = 0.38, mod=0.04235452167522087\n",
      "Epoch   75, loss.full = 0.2290, nmi = 0.39, mod=0.059952981298997364\n",
      "Epoch  100, loss.full = 0.2257, nmi = 0.39, mod=0.09662034363972434\n",
      "Epoch  125, loss.full = 0.2233, nmi = 0.39, mod=0.08975535417577298\n",
      "Epoch  150, loss.full = 0.2219, nmi = 0.40, mod=0.07632809052508882\n",
      "Epoch  175, loss.full = 0.2206, nmi = 0.39, mod=0.08458380067447889\n",
      "Epoch  200, loss.full = 0.2195, nmi = 0.40, mod=0.07744927250441781\n",
      "Epoch  225, loss.full = 0.2188, nmi = 0.40, mod=0.09318454798912823\n",
      "Epoch  250, loss.full = 0.2182, nmi = 0.40, mod=0.08046057162572999\n",
      "Epoch  275, loss.full = 0.2181, nmi = 0.40, mod=0.07720226851873246\n",
      "Epoch  300, loss.full = 0.2172, nmi = 0.40, mod=0.08919190845149375\n",
      "Epoch  325, loss.full = 0.2164, nmi = 0.41, mod=0.10063525603351227\n",
      "Epoch  350, loss.full = 0.2159, nmi = 0.42, mod=0.08856753750588665\n",
      "Epoch  375, loss.full = 0.2155, nmi = 0.40, mod=0.09383519126116757\n",
      "Epoch  400, loss.full = 0.2156, nmi = 0.40, mod=0.08826876681275755\n",
      "Epoch  425, loss.full = 0.2161, nmi = 0.41, mod=0.08604491836317842\n",
      "Epoch  450, loss.full = 0.2171, nmi = 0.39, mod=0.08391291435291143\n",
      "Epoch  475, loss.full = 0.2142, nmi = 0.39, mod=0.11625543725522909\n",
      "Epoch  500, loss.full = 0.2142, nmi = 0.39, mod=0.10406058012548879\n",
      "best nmi:  0.3946548224497525\n",
      "best mod:  0.11625543725522909\n",
      "last nmi:  0.39997568217585994\n",
      "iter:  15\n"
     ]
    },
    {
     "name": "stderr",
     "output_type": "stream",
     "text": [
      "100%|██████████| 755/755 [00:06<00:00, 107.96it/s]\n"
     ]
    },
    {
     "name": "stdout",
     "output_type": "stream",
     "text": [
      "Epoch    0, loss.full = 1.2420, nmi = 0.24, mod=0.015131858183271792\n",
      "Epoch   25, loss.full = 0.2496, nmi = 0.37, mod=0.04408722381131504\n",
      "Epoch   50, loss.full = 0.2337, nmi = 0.36, mod=0.05882832632357888\n",
      "Epoch   75, loss.full = 0.2310, nmi = 0.39, mod=0.07667071704955343\n",
      "Epoch  100, loss.full = 0.2287, nmi = 0.39, mod=0.08571990209040481\n",
      "Epoch  125, loss.full = 0.2266, nmi = 0.39, mod=0.091215175815153\n",
      "Epoch  150, loss.full = 0.2251, nmi = 0.40, mod=0.09485018423134235\n",
      "Epoch  175, loss.full = 0.2231, nmi = 0.40, mod=0.09221202438073434\n",
      "Epoch  200, loss.full = 0.2215, nmi = 0.42, mod=0.10860901317915565\n",
      "Epoch  225, loss.full = 0.2200, nmi = 0.42, mod=0.10434730585945498\n",
      "Epoch  250, loss.full = 0.2189, nmi = 0.41, mod=0.1354931732935296\n",
      "Epoch  275, loss.full = 0.2180, nmi = 0.41, mod=0.14574375396285155\n",
      "Epoch  300, loss.full = 0.2181, nmi = 0.39, mod=0.13430934899335978\n",
      "Epoch  325, loss.full = 0.2174, nmi = 0.41, mod=0.13134929030897152\n",
      "Epoch  350, loss.full = 0.2159, nmi = 0.41, mod=0.12566709417683358\n",
      "Epoch  375, loss.full = 0.2152, nmi = 0.41, mod=0.1031495406670912\n",
      "Epoch  400, loss.full = 0.2152, nmi = 0.41, mod=0.11584317905349975\n",
      "Epoch  425, loss.full = 0.2149, nmi = 0.42, mod=0.12169585356246224\n",
      "Epoch  450, loss.full = 0.2143, nmi = 0.41, mod=0.11353797175247485\n",
      "Epoch  475, loss.full = 0.2146, nmi = 0.41, mod=0.11924973507437896\n",
      "Epoch  500, loss.full = 0.2136, nmi = 0.41, mod=0.10807500286817275\n",
      "best nmi:  0.41084498343940185\n",
      "best mod:  0.14574375396285155\n",
      "last nmi:  0.4067501979016936\n",
      "iter:  16\n"
     ]
    },
    {
     "name": "stderr",
     "output_type": "stream",
     "text": [
      "100%|██████████| 755/755 [00:06<00:00, 124.19it/s]\n"
     ]
    },
    {
     "name": "stdout",
     "output_type": "stream",
     "text": [
      "Epoch    0, loss.full = 1.1080, nmi = 0.25, mod=0.016557428409432414\n",
      "Epoch   25, loss.full = 0.2424, nmi = 0.37, mod=0.03412269878027303\n",
      "Epoch   50, loss.full = 0.2316, nmi = 0.40, mod=0.05640927423247184\n",
      "Epoch   75, loss.full = 0.2292, nmi = 0.42, mod=0.03171152012397685\n",
      "Epoch  100, loss.full = 0.2267, nmi = 0.41, mod=0.0506646182415442\n",
      "Epoch  125, loss.full = 0.2234, nmi = 0.40, mod=0.06439835643713643\n",
      "Epoch  150, loss.full = 0.2202, nmi = 0.37, mod=0.07122299286429014\n",
      "Epoch  175, loss.full = 0.2183, nmi = 0.38, mod=0.0949355170074332\n",
      "Epoch  200, loss.full = 0.2175, nmi = 0.39, mod=0.1021132592884288\n",
      "Epoch  225, loss.full = 0.2167, nmi = 0.38, mod=0.09881613883278169\n",
      "Epoch  250, loss.full = 0.2164, nmi = 0.38, mod=0.09218757640343304\n",
      "Epoch  275, loss.full = 0.2168, nmi = 0.37, mod=0.11122688126756054\n",
      "Epoch  300, loss.full = 0.2153, nmi = 0.38, mod=0.09898759496782467\n",
      "Epoch  325, loss.full = 0.2149, nmi = 0.37, mod=0.11591679279348878\n",
      "Epoch  350, loss.full = 0.2144, nmi = 0.37, mod=0.1144974757670837\n",
      "Epoch  375, loss.full = 0.2142, nmi = 0.38, mod=0.10499198458333836\n",
      "Epoch  400, loss.full = 0.2140, nmi = 0.38, mod=0.10247206746347724\n",
      "Epoch  425, loss.full = 0.2138, nmi = 0.39, mod=0.11289625584962586\n",
      "Epoch  450, loss.full = 0.2134, nmi = 0.39, mod=0.12133585389270123\n",
      "Epoch  475, loss.full = 0.2141, nmi = 0.38, mod=0.12365277991004787\n",
      "Epoch  500, loss.full = 0.2127, nmi = 0.39, mod=0.12259895353436265\n",
      "best nmi:  0.38448513076231866\n",
      "best mod:  0.12365277991004787\n",
      "last nmi:  0.3912044319683986\n",
      "iter:  17\n"
     ]
    },
    {
     "name": "stderr",
     "output_type": "stream",
     "text": [
      "100%|██████████| 755/755 [00:03<00:00, 218.64it/s]\n"
     ]
    },
    {
     "name": "stdout",
     "output_type": "stream",
     "text": [
      "Epoch    0, loss.full = 1.5048, nmi = 0.23, mod=0.019023477731803587\n",
      "Epoch   25, loss.full = 0.2526, nmi = 0.36, mod=0.031833643728728545\n",
      "Epoch   50, loss.full = 0.2333, nmi = 0.38, mod=0.053766568816670385\n",
      "Epoch   75, loss.full = 0.2301, nmi = 0.38, mod=0.05215734718294067\n",
      "Epoch  100, loss.full = 0.2277, nmi = 0.40, mod=0.07012903836871819\n",
      "Epoch  125, loss.full = 0.2251, nmi = 0.38, mod=0.07533840944346548\n",
      "Epoch  150, loss.full = 0.2229, nmi = 0.37, mod=0.08122440215020633\n",
      "Epoch  175, loss.full = 0.2207, nmi = 0.37, mod=0.09437951651431149\n",
      "Epoch  200, loss.full = 0.2198, nmi = 0.38, mod=0.10054863582797754\n",
      "Epoch  225, loss.full = 0.2188, nmi = 0.38, mod=0.10349420731926462\n",
      "Epoch  250, loss.full = 0.2184, nmi = 0.38, mod=0.0922292777379683\n",
      "Epoch  275, loss.full = 0.2173, nmi = 0.41, mod=0.11433975573255509\n",
      "Epoch  300, loss.full = 0.2167, nmi = 0.41, mod=0.11980055734392964\n",
      "Epoch  325, loss.full = 0.2163, nmi = 0.39, mod=0.1232618708101506\n",
      "Epoch  350, loss.full = 0.2170, nmi = 0.41, mod=0.10965966131253153\n",
      "Epoch  375, loss.full = 0.2156, nmi = 0.42, mod=0.12336038691607591\n",
      "Epoch  400, loss.full = 0.2150, nmi = 0.42, mod=0.12050810960918812\n",
      "Epoch  425, loss.full = 0.2154, nmi = 0.41, mod=0.10949572528045631\n",
      "Epoch  450, loss.full = 0.2144, nmi = 0.40, mod=0.1281065921189948\n",
      "Epoch  475, loss.full = 0.2144, nmi = 0.41, mod=0.11676180088282781\n",
      "Epoch  500, loss.full = 0.2149, nmi = 0.41, mod=0.09318982403132266\n",
      "best nmi:  0.402949718433745\n",
      "best mod:  0.1281065921189948\n",
      "last nmi:  0.39815984114802155\n",
      "iter:  18\n"
     ]
    },
    {
     "name": "stderr",
     "output_type": "stream",
     "text": [
      "100%|██████████| 755/755 [00:03<00:00, 209.73it/s]\n"
     ]
    },
    {
     "name": "stdout",
     "output_type": "stream",
     "text": [
      "Epoch    0, loss.full = 1.6299, nmi = 0.25, mod=0.01796288786821574\n",
      "Epoch   25, loss.full = 0.2551, nmi = 0.36, mod=0.036674127221705655\n",
      "Epoch   50, loss.full = 0.2355, nmi = 0.37, mod=0.037464159322178725\n",
      "Epoch   75, loss.full = 0.2320, nmi = 0.38, mod=0.054264837186490084\n",
      "Epoch  100, loss.full = 0.2296, nmi = 0.37, mod=0.0664281338019977\n",
      "Epoch  125, loss.full = 0.2249, nmi = 0.38, mod=0.06780894741753736\n",
      "Epoch  150, loss.full = 0.2236, nmi = 0.39, mod=0.08222483502337086\n",
      "Epoch  175, loss.full = 0.2223, nmi = 0.38, mod=0.052834914487040474\n",
      "Epoch  200, loss.full = 0.2211, nmi = 0.37, mod=0.055222200508208925\n",
      "Epoch  225, loss.full = 0.2211, nmi = 0.38, mod=0.08816240183888147\n",
      "Epoch  250, loss.full = 0.2198, nmi = 0.38, mod=0.0913604482882081\n",
      "Epoch  275, loss.full = 0.2195, nmi = 0.38, mod=0.09139235529551304\n",
      "Epoch  300, loss.full = 0.2186, nmi = 0.38, mod=0.0948269489590945\n",
      "Epoch  325, loss.full = 0.2178, nmi = 0.36, mod=0.08837180994676799\n",
      "Epoch  350, loss.full = 0.2176, nmi = 0.37, mod=0.09933767114490301\n",
      "Epoch  375, loss.full = 0.2175, nmi = 0.37, mod=0.07943191957503262\n",
      "Epoch  400, loss.full = 0.2166, nmi = 0.38, mod=0.07251138008206377\n",
      "Epoch  425, loss.full = 0.2162, nmi = 0.38, mod=0.09584233500660183\n",
      "Epoch  450, loss.full = 0.2161, nmi = 0.39, mod=0.11107057612172007\n",
      "Epoch  475, loss.full = 0.2155, nmi = 0.39, mod=0.10797471013935177\n",
      "Epoch  500, loss.full = 0.2145, nmi = 0.41, mod=0.13281900037081631\n",
      "best nmi:  0.40502285099822777\n",
      "best mod:  0.13281900037081631\n",
      "last nmi:  0.39955730923215976\n",
      "iter:  19\n"
     ]
    },
    {
     "name": "stderr",
     "output_type": "stream",
     "text": [
      "100%|██████████| 755/755 [00:03<00:00, 213.94it/s]\n"
     ]
    },
    {
     "name": "stdout",
     "output_type": "stream",
     "text": [
      "Epoch    0, loss.full = 1.4508, nmi = 0.23, mod=0.017161046510803687\n",
      "Epoch   25, loss.full = 0.2503, nmi = 0.38, mod=0.042169628560100286\n",
      "Epoch   50, loss.full = 0.2347, nmi = 0.35, mod=0.0404946757771764\n",
      "Epoch   75, loss.full = 0.2314, nmi = 0.37, mod=0.038632677260220974\n",
      "Epoch  100, loss.full = 0.2288, nmi = 0.39, mod=0.0426937595975507\n",
      "Epoch  125, loss.full = 0.2265, nmi = 0.39, mod=0.05380125019404951\n",
      "Epoch  150, loss.full = 0.2248, nmi = 0.38, mod=0.03558956253285016\n",
      "Epoch  175, loss.full = 0.2227, nmi = 0.39, mod=0.06524230553682446\n",
      "Epoch  200, loss.full = 0.2213, nmi = 0.40, mod=0.06338367475009177\n",
      "Epoch  225, loss.full = 0.2207, nmi = 0.42, mod=0.08257550380351576\n",
      "Epoch  250, loss.full = 0.2195, nmi = 0.42, mod=0.10043283847413782\n",
      "Epoch  275, loss.full = 0.2189, nmi = 0.43, mod=0.07937039381833443\n",
      "Epoch  300, loss.full = 0.2204, nmi = 0.42, mod=0.05015444430678485\n",
      "Epoch  325, loss.full = 0.2183, nmi = 0.41, mod=0.058551324533272525\n",
      "Epoch  350, loss.full = 0.2175, nmi = 0.42, mod=0.04865100025236531\n",
      "Epoch  375, loss.full = 0.2177, nmi = 0.43, mod=0.07074230317785409\n",
      "Epoch  400, loss.full = 0.2168, nmi = 0.42, mod=0.052940392813930315\n",
      "Epoch  425, loss.full = 0.2167, nmi = 0.42, mod=0.05710908270875962\n",
      "Epoch  450, loss.full = 0.2165, nmi = 0.42, mod=0.07113571500830372\n",
      "Epoch  475, loss.full = 0.2160, nmi = 0.40, mod=0.04658013659104867\n",
      "Epoch  500, loss.full = 0.2158, nmi = 0.41, mod=0.04236238948434803\n",
      "best nmi:  0.4150898354653069\n",
      "best mod:  0.10043283847413782\n",
      "last nmi:  0.4114455281253021\n",
      "iter:  20\n"
     ]
    },
    {
     "name": "stderr",
     "output_type": "stream",
     "text": [
      "100%|██████████| 755/755 [00:03<00:00, 218.88it/s]\n"
     ]
    },
    {
     "name": "stdout",
     "output_type": "stream",
     "text": [
      "Epoch    0, loss.full = 1.0342, nmi = 0.25, mod=0.024820815507389293\n",
      "Epoch   25, loss.full = 0.2451, nmi = 0.33, mod=0.030938615873791406\n",
      "Epoch   50, loss.full = 0.2320, nmi = 0.35, mod=0.04824766368179279\n",
      "Epoch   75, loss.full = 0.2288, nmi = 0.36, mod=0.04882210709631567\n",
      "Epoch  100, loss.full = 0.2256, nmi = 0.34, mod=0.05266305513964256\n",
      "Epoch  125, loss.full = 0.2232, nmi = 0.34, mod=0.06416530616293163\n",
      "Epoch  150, loss.full = 0.2222, nmi = 0.34, mod=0.06455119758086551\n",
      "Epoch  175, loss.full = 0.2219, nmi = 0.34, mod=0.06125891860819112\n",
      "Epoch  200, loss.full = 0.2210, nmi = 0.37, mod=0.06940453067151219\n",
      "Epoch  225, loss.full = 0.2202, nmi = 0.36, mod=0.06302896110807636\n",
      "Epoch  250, loss.full = 0.2197, nmi = 0.37, mod=0.08463172266142907\n",
      "Epoch  275, loss.full = 0.2192, nmi = 0.38, mod=0.09476680741056902\n",
      "Epoch  300, loss.full = 0.2186, nmi = 0.37, mod=0.091248038694219\n",
      "Epoch  325, loss.full = 0.2175, nmi = 0.38, mod=0.12897831780636834\n",
      "Epoch  350, loss.full = 0.2238, nmi = 0.39, mod=0.09875213983079098\n",
      "Epoch  375, loss.full = 0.2170, nmi = 0.40, mod=0.1418725522125008\n",
      "Epoch  400, loss.full = 0.2155, nmi = 0.40, mod=0.13210044016543593\n",
      "Epoch  425, loss.full = 0.2155, nmi = 0.40, mod=0.11672544811234878\n",
      "Epoch  450, loss.full = 0.2159, nmi = 0.40, mod=0.1468401928597884\n",
      "Epoch  475, loss.full = 0.2150, nmi = 0.40, mod=0.14639266067483972\n",
      "Epoch  500, loss.full = 0.2149, nmi = 0.40, mod=0.15524074527285242\n",
      "best nmi:  0.4021306876340096\n",
      "best mod:  0.15524074527285242\n",
      "last nmi:  0.3906371747021443\n",
      "iter:  21\n"
     ]
    },
    {
     "name": "stderr",
     "output_type": "stream",
     "text": [
      "100%|██████████| 755/755 [00:03<00:00, 224.70it/s]\n"
     ]
    },
    {
     "name": "stdout",
     "output_type": "stream",
     "text": [
      "Epoch    0, loss.full = 1.4554, nmi = 0.28, mod=0.021852678532493404\n",
      "Epoch   25, loss.full = 0.2507, nmi = 0.36, mod=0.04425072447164761\n",
      "Epoch   50, loss.full = 0.2333, nmi = 0.34, mod=0.05119864628036876\n",
      "Epoch   75, loss.full = 0.2306, nmi = 0.37, mod=0.09283836589633669\n",
      "Epoch  100, loss.full = 0.2287, nmi = 0.38, mod=0.1137700640698156\n",
      "Epoch  125, loss.full = 0.2268, nmi = 0.40, mod=0.09399289615237089\n",
      "Epoch  150, loss.full = 0.2252, nmi = 0.40, mod=0.1120553876930579\n",
      "Epoch  175, loss.full = 0.2234, nmi = 0.40, mod=0.09480824003016951\n",
      "Epoch  200, loss.full = 0.2219, nmi = 0.39, mod=0.0819198793828611\n",
      "Epoch  225, loss.full = 0.2216, nmi = 0.39, mod=0.08702392242720951\n",
      "Epoch  250, loss.full = 0.2210, nmi = 0.37, mod=0.08523133287418279\n",
      "Epoch  275, loss.full = 0.2224, nmi = 0.34, mod=0.07146757856464511\n",
      "Epoch  300, loss.full = 0.2187, nmi = 0.37, mod=0.1005355508693327\n",
      "Epoch  325, loss.full = 0.2175, nmi = 0.38, mod=0.1059693799766756\n",
      "Epoch  350, loss.full = 0.2183, nmi = 0.38, mod=0.12456476098265724\n",
      "Epoch  375, loss.full = 0.2162, nmi = 0.39, mod=0.12684946634217942\n",
      "Epoch  400, loss.full = 0.2159, nmi = 0.41, mod=0.14487629434598437\n",
      "Epoch  425, loss.full = 0.2155, nmi = 0.39, mod=0.0993571322998568\n",
      "Epoch  450, loss.full = 0.2159, nmi = 0.40, mod=0.12117292362274015\n",
      "Epoch  475, loss.full = 0.2160, nmi = 0.39, mod=0.08804263108520853\n",
      "Epoch  500, loss.full = 0.2141, nmi = 0.39, mod=0.09440622171718943\n",
      "best nmi:  0.4125588614411865\n",
      "best mod:  0.14487629434598437\n",
      "last nmi:  0.3845137021930296\n",
      "iter:  22\n"
     ]
    },
    {
     "name": "stderr",
     "output_type": "stream",
     "text": [
      "100%|██████████| 755/755 [00:03<00:00, 211.19it/s]\n"
     ]
    },
    {
     "name": "stdout",
     "output_type": "stream",
     "text": [
      "Epoch    0, loss.full = 1.0909, nmi = 0.28, mod=0.017918295262981228\n",
      "Epoch   25, loss.full = 0.2437, nmi = 0.35, mod=0.024543582871550604\n",
      "Epoch   50, loss.full = 0.2329, nmi = 0.37, mod=0.04477299214684041\n",
      "Epoch   75, loss.full = 0.2296, nmi = 0.37, mod=0.055313790637699235\n",
      "Epoch  100, loss.full = 0.2270, nmi = 0.35, mod=0.056446169847308734\n",
      "Epoch  125, loss.full = 0.2249, nmi = 0.35, mod=0.04492327495524262\n",
      "Epoch  150, loss.full = 0.2233, nmi = 0.36, mod=0.05697928992160288\n",
      "Epoch  175, loss.full = 0.2205, nmi = 0.34, mod=0.037947187497538386\n",
      "Epoch  200, loss.full = 0.2184, nmi = 0.37, mod=0.06246080583624777\n",
      "Epoch  225, loss.full = 0.2181, nmi = 0.38, mod=0.07197435985662666\n",
      "Epoch  250, loss.full = 0.2172, nmi = 0.36, mod=0.08061095924250869\n",
      "Epoch  275, loss.full = 0.2180, nmi = 0.38, mod=0.0887548072992523\n",
      "Epoch  300, loss.full = 0.2164, nmi = 0.39, mod=0.12320539434383591\n",
      "Epoch  325, loss.full = 0.2157, nmi = 0.40, mod=0.12941007904004292\n",
      "Epoch  350, loss.full = 0.2150, nmi = 0.40, mod=0.1475143451066669\n",
      "Epoch  375, loss.full = 0.2147, nmi = 0.39, mod=0.14787861678556485\n",
      "Epoch  400, loss.full = 0.2143, nmi = 0.38, mod=0.12092334784027518\n",
      "Epoch  425, loss.full = 0.2154, nmi = 0.38, mod=0.13119798157998708\n",
      "Epoch  450, loss.full = 0.2144, nmi = 0.39, mod=0.11634269048951978\n",
      "Epoch  475, loss.full = 0.2144, nmi = 0.39, mod=0.11527883506333662\n",
      "Epoch  500, loss.full = 0.2175, nmi = 0.39, mod=0.09188748957061522\n",
      "best nmi:  0.39335312545367535\n",
      "best mod:  0.14787861678556485\n",
      "last nmi:  0.3844669405050652\n",
      "iter:  23\n"
     ]
    },
    {
     "name": "stderr",
     "output_type": "stream",
     "text": [
      "100%|██████████| 755/755 [00:03<00:00, 227.72it/s]\n"
     ]
    },
    {
     "name": "stdout",
     "output_type": "stream",
     "text": [
      "Epoch    0, loss.full = 1.2441, nmi = 0.26, mod=0.01933657076994319\n",
      "Epoch   25, loss.full = 0.2449, nmi = 0.37, mod=0.045577924068110065\n",
      "Epoch   50, loss.full = 0.2337, nmi = 0.39, mod=0.061033400761476356\n",
      "Epoch   75, loss.full = 0.2304, nmi = 0.38, mod=0.08886405487879795\n",
      "Epoch  100, loss.full = 0.2276, nmi = 0.38, mod=0.0653569291499042\n",
      "Epoch  125, loss.full = 0.2244, nmi = 0.40, mod=0.08295977311497457\n",
      "Epoch  150, loss.full = 0.2221, nmi = 0.42, mod=0.08699381900122503\n",
      "Epoch  175, loss.full = 0.2211, nmi = 0.42, mod=0.10273741546334779\n",
      "Epoch  200, loss.full = 0.2200, nmi = 0.41, mod=0.09609658436733337\n",
      "Epoch  225, loss.full = 0.2194, nmi = 0.43, mod=0.10294194782188831\n",
      "Epoch  250, loss.full = 0.2192, nmi = 0.42, mod=0.09846026881405534\n",
      "Epoch  275, loss.full = 0.2190, nmi = 0.42, mod=0.09275855980237518\n",
      "Epoch  300, loss.full = 0.2173, nmi = 0.42, mod=0.13829501095208308\n",
      "Epoch  325, loss.full = 0.2166, nmi = 0.42, mod=0.13349131982642676\n",
      "Epoch  350, loss.full = 0.2177, nmi = 0.41, mod=0.11901391202743189\n",
      "Epoch  375, loss.full = 0.2156, nmi = 0.41, mod=0.10718688822551398\n",
      "Epoch  400, loss.full = 0.2148, nmi = 0.40, mod=0.0844484575122692\n",
      "Epoch  425, loss.full = 0.2145, nmi = 0.39, mod=0.0735279093703057\n",
      "Epoch  450, loss.full = 0.2143, nmi = 0.39, mod=0.06768268096021132\n",
      "Epoch  475, loss.full = 0.2137, nmi = 0.38, mod=0.06859923915132136\n",
      "Epoch  500, loss.full = 0.2137, nmi = 0.39, mod=0.07226229249682757\n",
      "best nmi:  0.4199584028116227\n",
      "best mod:  0.13829501095208308\n",
      "last nmi:  0.3803283399916044\n",
      "iter:  24\n"
     ]
    },
    {
     "name": "stderr",
     "output_type": "stream",
     "text": [
      "100%|██████████| 755/755 [00:03<00:00, 220.14it/s]\n"
     ]
    },
    {
     "name": "stdout",
     "output_type": "stream",
     "text": [
      "Epoch    0, loss.full = 1.2186, nmi = 0.27, mod=0.02005398814359505\n",
      "Epoch   25, loss.full = 0.2436, nmi = 0.33, mod=0.01297124985877934\n",
      "Epoch   50, loss.full = 0.2333, nmi = 0.34, mod=0.04415366893852765\n",
      "Epoch   75, loss.full = 0.2302, nmi = 0.36, mod=0.03296502064075009\n",
      "Epoch  100, loss.full = 0.2278, nmi = 0.36, mod=0.050981704387830916\n",
      "Epoch  125, loss.full = 0.2254, nmi = 0.37, mod=0.056595329420274024\n",
      "Epoch  150, loss.full = 0.2231, nmi = 0.37, mod=0.061731324353864164\n",
      "Epoch  175, loss.full = 0.2229, nmi = 0.38, mod=0.07140678291411673\n",
      "Epoch  200, loss.full = 0.2212, nmi = 0.38, mod=0.07120528099524134\n",
      "Epoch  225, loss.full = 0.2207, nmi = 0.38, mod=0.08333229385441535\n",
      "Epoch  250, loss.full = 0.2197, nmi = 0.38, mod=0.10471970232679696\n",
      "Epoch  275, loss.full = 0.2189, nmi = 0.38, mod=0.11438015303258152\n",
      "Epoch  300, loss.full = 0.2196, nmi = 0.38, mod=0.08075459061420653\n",
      "Epoch  325, loss.full = 0.2173, nmi = 0.38, mod=0.10505829203081388\n",
      "Epoch  350, loss.full = 0.2165, nmi = 0.38, mod=0.1320918309381978\n",
      "Epoch  375, loss.full = 0.2159, nmi = 0.38, mod=0.10285935339382764\n",
      "Epoch  400, loss.full = 0.2157, nmi = 0.38, mod=0.12022012584497356\n",
      "Epoch  425, loss.full = 0.2172, nmi = 0.40, mod=0.1067897463895752\n",
      "Epoch  450, loss.full = 0.2151, nmi = 0.40, mod=0.10493424401620521\n",
      "Epoch  475, loss.full = 0.2149, nmi = 0.39, mod=0.11672463494458951\n",
      "Epoch  500, loss.full = 0.2146, nmi = 0.39, mod=0.10082563973735971\n",
      "best nmi:  0.38447233581877105\n",
      "best mod:  0.1320918309381978\n",
      "last nmi:  0.38037352273143504\n",
      "iter:  25\n"
     ]
    },
    {
     "name": "stderr",
     "output_type": "stream",
     "text": [
      "100%|██████████| 755/755 [00:03<00:00, 222.21it/s]\n"
     ]
    },
    {
     "name": "stdout",
     "output_type": "stream",
     "text": [
      "Epoch    0, loss.full = 1.2035, nmi = 0.26, mod=0.018952834638129357\n",
      "Epoch   25, loss.full = 0.2451, nmi = 0.37, mod=0.04278943319982448\n",
      "Epoch   50, loss.full = 0.2330, nmi = 0.38, mod=0.04007548066454857\n",
      "Epoch   75, loss.full = 0.2298, nmi = 0.40, mod=0.05794741516181373\n",
      "Epoch  100, loss.full = 0.2269, nmi = 0.39, mod=0.03480277738508902\n",
      "Epoch  125, loss.full = 0.2257, nmi = 0.40, mod=0.07964094265061374\n",
      "Epoch  150, loss.full = 0.2244, nmi = 0.40, mod=0.059025796827936905\n",
      "Epoch  175, loss.full = 0.2225, nmi = 0.39, mod=0.08107977959459177\n",
      "Epoch  200, loss.full = 0.2228, nmi = 0.37, mod=0.09116509572941309\n",
      "Epoch  225, loss.full = 0.2208, nmi = 0.39, mod=0.10741123098411344\n",
      "Epoch  250, loss.full = 0.2210, nmi = 0.40, mod=0.12344867271832195\n",
      "Epoch  275, loss.full = 0.2199, nmi = 0.40, mod=0.12146063401884999\n",
      "Epoch  300, loss.full = 0.2188, nmi = 0.40, mod=0.1021664598253957\n",
      "Epoch  325, loss.full = 0.2179, nmi = 0.42, mod=0.09170024424936049\n",
      "Epoch  350, loss.full = 0.2172, nmi = 0.42, mod=0.07829654480093329\n",
      "Epoch  375, loss.full = 0.2173, nmi = 0.43, mod=0.08744456156052469\n",
      "Epoch  400, loss.full = 0.2165, nmi = 0.43, mod=0.11070115462398665\n",
      "Epoch  425, loss.full = 0.2160, nmi = 0.42, mod=0.08889477548097222\n",
      "Epoch  450, loss.full = 0.2158, nmi = 0.42, mod=0.08626766601319574\n",
      "Epoch  475, loss.full = 0.2178, nmi = 0.40, mod=0.06637322786672621\n",
      "Epoch  500, loss.full = 0.2165, nmi = 0.41, mod=0.10073283190564136\n",
      "best nmi:  0.39763019424620755\n",
      "best mod:  0.12344867271832195\n",
      "last nmi:  0.4058226991662827\n",
      "iter:  26\n"
     ]
    },
    {
     "name": "stderr",
     "output_type": "stream",
     "text": [
      "100%|██████████| 755/755 [00:03<00:00, 228.14it/s]\n"
     ]
    },
    {
     "name": "stdout",
     "output_type": "stream",
     "text": [
      "Epoch    0, loss.full = 1.2910, nmi = 0.24, mod=0.01881019424694376\n",
      "Epoch   25, loss.full = 0.2470, nmi = 0.35, mod=0.04019001415011549\n",
      "Epoch   50, loss.full = 0.2342, nmi = 0.37, mod=0.04102634384829096\n",
      "Epoch   75, loss.full = 0.2315, nmi = 0.38, mod=0.043858936175903515\n",
      "Epoch  100, loss.full = 0.2295, nmi = 0.37, mod=0.04872664151058283\n",
      "Epoch  125, loss.full = 0.2275, nmi = 0.36, mod=0.06180762696267395\n",
      "Epoch  150, loss.full = 0.2259, nmi = 0.37, mod=0.0766606631874389\n",
      "Epoch  175, loss.full = 0.2246, nmi = 0.38, mod=0.0539070041341059\n",
      "Epoch  200, loss.full = 0.2231, nmi = 0.38, mod=0.061757057743312756\n",
      "Epoch  225, loss.full = 0.2218, nmi = 0.38, mod=0.06565159989317905\n",
      "Epoch  250, loss.full = 0.2194, nmi = 0.40, mod=0.10243009793203793\n",
      "Epoch  275, loss.full = 0.2185, nmi = 0.39, mod=0.09597288025610444\n",
      "Epoch  300, loss.full = 0.2178, nmi = 0.39, mod=0.10277066156754591\n",
      "Epoch  325, loss.full = 0.2172, nmi = 0.40, mod=0.10772559650314456\n",
      "Epoch  350, loss.full = 0.2172, nmi = 0.41, mod=0.12350704075033228\n",
      "Epoch  375, loss.full = 0.2162, nmi = 0.41, mod=0.11566075255247668\n",
      "Epoch  400, loss.full = 0.2161, nmi = 0.40, mod=0.11565036737894184\n",
      "Epoch  425, loss.full = 0.2156, nmi = 0.40, mod=0.11179812253306289\n",
      "Epoch  450, loss.full = 0.2155, nmi = 0.41, mod=0.11998081536888057\n",
      "Epoch  475, loss.full = 0.2155, nmi = 0.39, mod=0.11712981842519773\n",
      "Epoch  500, loss.full = 0.2147, nmi = 0.40, mod=0.11215355954441046\n",
      "best nmi:  0.40662307356835925\n",
      "best mod:  0.12350704075033228\n",
      "last nmi:  0.39804419987118134\n",
      "iter:  27\n"
     ]
    },
    {
     "name": "stderr",
     "output_type": "stream",
     "text": [
      "100%|██████████| 755/755 [00:03<00:00, 211.39it/s]\n"
     ]
    },
    {
     "name": "stdout",
     "output_type": "stream",
     "text": [
      "Epoch    0, loss.full = 1.9235, nmi = 0.26, mod=0.018983008776034767\n",
      "Epoch   25, loss.full = 0.2496, nmi = 0.36, mod=0.03671910015236271\n",
      "Epoch   50, loss.full = 0.2331, nmi = 0.37, mod=0.0835961451273599\n",
      "Epoch   75, loss.full = 0.2300, nmi = 0.30, mod=0.08676138180204808\n",
      "Epoch  100, loss.full = 0.2270, nmi = 0.30, mod=0.06865118008661128\n",
      "Epoch  125, loss.full = 0.2249, nmi = 0.30, mod=0.07199224587282346\n",
      "Epoch  150, loss.full = 0.2222, nmi = 0.30, mod=0.06901727022759116\n",
      "Epoch  175, loss.full = 0.2209, nmi = 0.38, mod=0.0656612099521416\n",
      "Epoch  200, loss.full = 0.2202, nmi = 0.39, mod=0.07526936476512766\n",
      "Epoch  225, loss.full = 0.2205, nmi = 0.42, mod=0.06923677858864895\n",
      "Epoch  250, loss.full = 0.2191, nmi = 0.42, mod=0.07704661327901041\n",
      "Epoch  275, loss.full = 0.2185, nmi = 0.42, mod=0.08789308125059223\n",
      "Epoch  300, loss.full = 0.2178, nmi = 0.40, mod=0.09776097191183912\n",
      "Epoch  325, loss.full = 0.2173, nmi = 0.40, mod=0.10671614123852331\n",
      "Epoch  350, loss.full = 0.2171, nmi = 0.37, mod=0.08294266997236643\n",
      "Epoch  375, loss.full = 0.2165, nmi = 0.38, mod=0.08488170127076271\n",
      "Epoch  400, loss.full = 0.2162, nmi = 0.40, mod=0.10735297678346435\n",
      "Epoch  425, loss.full = 0.2160, nmi = 0.39, mod=0.10092531551457495\n",
      "Epoch  450, loss.full = 0.2156, nmi = 0.37, mod=0.10663778455096008\n",
      "Epoch  475, loss.full = 0.2162, nmi = 0.39, mod=0.11271169688457104\n",
      "Epoch  500, loss.full = 0.2151, nmi = 0.42, mod=0.10116602759094528\n",
      "best nmi:  0.39090101416273815\n",
      "best mod:  0.11271169688457104\n",
      "last nmi:  0.41436132927879044\n",
      "iter:  28\n"
     ]
    },
    {
     "name": "stderr",
     "output_type": "stream",
     "text": [
      "100%|██████████| 755/755 [00:03<00:00, 224.45it/s]\n"
     ]
    },
    {
     "name": "stdout",
     "output_type": "stream",
     "text": [
      "Epoch    0, loss.full = 1.4201, nmi = 0.25, mod=0.018750012860155048\n",
      "Epoch   25, loss.full = 0.2467, nmi = 0.38, mod=0.029487598939248752\n",
      "Epoch   50, loss.full = 0.2323, nmi = 0.37, mod=0.03267431016978939\n",
      "Epoch   75, loss.full = 0.2278, nmi = 0.39, mod=0.0607227819017476\n",
      "Epoch  100, loss.full = 0.2260, nmi = 0.36, mod=0.04595292609561399\n",
      "Epoch  125, loss.full = 0.2233, nmi = 0.36, mod=0.03287837839494014\n",
      "Epoch  150, loss.full = 0.2217, nmi = 0.36, mod=0.038825419231762595\n",
      "Epoch  175, loss.full = 0.2206, nmi = 0.36, mod=0.04989240534291607\n",
      "Epoch  200, loss.full = 0.2200, nmi = 0.38, mod=0.052556428963064145\n",
      "Epoch  225, loss.full = 0.2197, nmi = 0.38, mod=0.089780340986559\n",
      "Epoch  250, loss.full = 0.2190, nmi = 0.39, mod=0.07074318417285975\n",
      "Epoch  275, loss.full = 0.2199, nmi = 0.41, mod=0.11106513869384475\n",
      "Epoch  300, loss.full = 0.2178, nmi = 0.41, mod=0.058995535895370974\n",
      "Epoch  325, loss.full = 0.2169, nmi = 0.41, mod=0.0675564449755241\n",
      "Epoch  350, loss.full = 0.2163, nmi = 0.42, mod=0.08298102724955211\n",
      "Epoch  375, loss.full = 0.2158, nmi = 0.42, mod=0.07943077107463246\n",
      "Epoch  400, loss.full = 0.2153, nmi = 0.42, mod=0.11177902206572782\n",
      "Epoch  425, loss.full = 0.2151, nmi = 0.43, mod=0.12859504105200367\n",
      "Epoch  450, loss.full = 0.2146, nmi = 0.42, mod=0.11906764415102282\n",
      "Epoch  475, loss.full = 0.2148, nmi = 0.40, mod=0.11293435486614158\n",
      "Epoch  500, loss.full = 0.2151, nmi = 0.40, mod=0.112560663847422\n",
      "best nmi:  0.43148617388230726\n",
      "best mod:  0.12859504105200367\n",
      "last nmi:  0.3969406267980266\n",
      "iter:  29\n"
     ]
    },
    {
     "name": "stderr",
     "output_type": "stream",
     "text": [
      "100%|██████████| 755/755 [00:03<00:00, 219.37it/s]\n"
     ]
    },
    {
     "name": "stdout",
     "output_type": "stream",
     "text": [
      "Epoch    0, loss.full = 1.0512, nmi = 0.25, mod=0.018210120755618578\n",
      "Epoch   25, loss.full = 0.2441, nmi = 0.36, mod=0.0460487918147316\n",
      "Epoch   50, loss.full = 0.2326, nmi = 0.37, mod=0.04671219601965738\n",
      "Epoch   75, loss.full = 0.2296, nmi = 0.37, mod=0.07118932602030137\n",
      "Epoch  100, loss.full = 0.2275, nmi = 0.38, mod=0.07153571158604746\n",
      "Epoch  125, loss.full = 0.2257, nmi = 0.37, mod=0.06600174511801296\n",
      "Epoch  150, loss.full = 0.2232, nmi = 0.37, mod=0.08072999535274719\n",
      "Epoch  175, loss.full = 0.2210, nmi = 0.38, mod=0.07709173750908774\n",
      "Epoch  200, loss.full = 0.2193, nmi = 0.38, mod=0.1026110216442973\n",
      "Epoch  225, loss.full = 0.2184, nmi = 0.38, mod=0.10737669830085973\n",
      "Epoch  250, loss.full = 0.2175, nmi = 0.39, mod=0.10008232158942387\n",
      "Epoch  275, loss.full = 0.2172, nmi = 0.39, mod=0.08242372917905746\n",
      "Epoch  300, loss.full = 0.2178, nmi = 0.38, mod=0.1058012119472977\n",
      "Epoch  325, loss.full = 0.2163, nmi = 0.38, mod=0.12362937692912525\n",
      "Epoch  350, loss.full = 0.2158, nmi = 0.38, mod=0.11744985698419542\n",
      "Epoch  375, loss.full = 0.2154, nmi = 0.39, mod=0.12874698252865444\n",
      "Epoch  400, loss.full = 0.2154, nmi = 0.39, mod=0.10755254490084089\n",
      "Epoch  425, loss.full = 0.2150, nmi = 0.39, mod=0.13801129924249828\n",
      "Epoch  450, loss.full = 0.2148, nmi = 0.38, mod=0.13094079606785738\n",
      "Epoch  475, loss.full = 0.2147, nmi = 0.38, mod=0.10856312432970137\n",
      "Epoch  500, loss.full = 0.2149, nmi = 0.39, mod=0.09747247738349887\n",
      "best nmi:  0.3916985959729358\n",
      "best mod:  0.13801129924249828\n",
      "last nmi:  0.3873116367727829\n",
      "iter:  30\n"
     ]
    },
    {
     "name": "stderr",
     "output_type": "stream",
     "text": [
      "100%|██████████| 755/755 [00:03<00:00, 218.29it/s]\n"
     ]
    },
    {
     "name": "stdout",
     "output_type": "stream",
     "text": [
      "Epoch    0, loss.full = 1.5859, nmi = 0.26, mod=0.020085804195054492\n",
      "Epoch   25, loss.full = 0.2513, nmi = 0.37, mod=0.042603876353069094\n",
      "Epoch   50, loss.full = 0.2315, nmi = 0.39, mod=0.03926846644162629\n",
      "Epoch   75, loss.full = 0.2269, nmi = 0.41, mod=0.03864585931925617\n",
      "Epoch  100, loss.full = 0.2238, nmi = 0.39, mod=0.04495893364471614\n",
      "Epoch  125, loss.full = 0.2223, nmi = 0.42, mod=0.038305530736410895\n",
      "Epoch  150, loss.full = 0.2211, nmi = 0.42, mod=0.04411226601515204\n",
      "Epoch  175, loss.full = 0.2207, nmi = 0.43, mod=0.06858890868916773\n",
      "Epoch  200, loss.full = 0.2194, nmi = 0.43, mod=0.05297557650174337\n",
      "Epoch  225, loss.full = 0.2193, nmi = 0.40, mod=0.0707184290047141\n",
      "Epoch  250, loss.full = 0.2184, nmi = 0.43, mod=0.07737903449735367\n",
      "Epoch  275, loss.full = 0.2179, nmi = 0.43, mod=0.09568726543897117\n",
      "Epoch  300, loss.full = 0.2173, nmi = 0.43, mod=0.10178228330213428\n",
      "Epoch  325, loss.full = 0.2172, nmi = 0.42, mod=0.08242942074192154\n",
      "Epoch  350, loss.full = 0.2166, nmi = 0.42, mod=0.08541069024720059\n",
      "Epoch  375, loss.full = 0.2163, nmi = 0.42, mod=0.07732912613585434\n",
      "Epoch  400, loss.full = 0.2158, nmi = 0.41, mod=0.07700480012271665\n",
      "Epoch  425, loss.full = 0.2162, nmi = 0.40, mod=0.07023012112111458\n",
      "Epoch  450, loss.full = 0.2181, nmi = 0.41, mod=0.08933547023166254\n",
      "Epoch  475, loss.full = 0.2159, nmi = 0.41, mod=0.10034030599781468\n",
      "Epoch  500, loss.full = 0.2145, nmi = 0.41, mod=0.10255725517483488\n",
      "best nmi:  0.40966003569470705\n",
      "best mod:  0.10255725517483488\n",
      "last nmi:  0.4160843371018262\n",
      "iter:  31\n"
     ]
    },
    {
     "name": "stderr",
     "output_type": "stream",
     "text": [
      "100%|██████████| 755/755 [00:03<00:00, 215.35it/s]\n"
     ]
    },
    {
     "name": "stdout",
     "output_type": "stream",
     "text": [
      "Epoch    0, loss.full = 1.2949, nmi = 0.24, mod=0.00934163959896113\n",
      "Epoch   25, loss.full = 0.2518, nmi = 0.33, mod=0.03275045952320706\n",
      "Epoch   50, loss.full = 0.2348, nmi = 0.35, mod=0.039464573805962196\n",
      "Epoch   75, loss.full = 0.2319, nmi = 0.35, mod=0.028710482569590003\n",
      "Epoch  100, loss.full = 0.2294, nmi = 0.40, mod=0.048259803824027774\n",
      "Epoch  125, loss.full = 0.2274, nmi = 0.40, mod=0.06803656391531344\n",
      "Epoch  150, loss.full = 0.2262, nmi = 0.39, mod=0.05652563392873569\n",
      "Epoch  175, loss.full = 0.2245, nmi = 0.37, mod=0.06490396805651494\n",
      "Epoch  200, loss.full = 0.2231, nmi = 0.37, mod=0.06415408829918516\n",
      "Epoch  225, loss.full = 0.2207, nmi = 0.37, mod=0.05832296954974507\n",
      "Epoch  250, loss.full = 0.2197, nmi = 0.38, mod=0.07908464921514194\n",
      "Epoch  275, loss.full = 0.2181, nmi = 0.38, mod=0.0723724964269429\n",
      "Epoch  300, loss.full = 0.2173, nmi = 0.38, mod=0.11383294167501305\n",
      "Epoch  325, loss.full = 0.2174, nmi = 0.38, mod=0.10725889726278749\n",
      "Epoch  350, loss.full = 0.2168, nmi = 0.38, mod=0.11227024171431446\n",
      "Epoch  375, loss.full = 0.2160, nmi = 0.37, mod=0.11236670157819892\n",
      "Epoch  400, loss.full = 0.2155, nmi = 0.38, mod=0.11662161044795624\n",
      "Epoch  425, loss.full = 0.2223, nmi = 0.38, mod=0.040207235289126765\n",
      "Epoch  450, loss.full = 0.2185, nmi = 0.38, mod=0.08606805831551538\n",
      "Epoch  475, loss.full = 0.2158, nmi = 0.38, mod=0.08612988059607644\n",
      "Epoch  500, loss.full = 0.2151, nmi = 0.39, mod=0.1020389144589006\n",
      "best nmi:  0.37984627771411916\n",
      "best mod:  0.11662161044795624\n",
      "last nmi:  0.3894379345881587\n",
      "iter:  32\n"
     ]
    },
    {
     "name": "stderr",
     "output_type": "stream",
     "text": [
      "100%|██████████| 755/755 [00:03<00:00, 222.30it/s]\n"
     ]
    },
    {
     "name": "stdout",
     "output_type": "stream",
     "text": [
      "Epoch    0, loss.full = 1.4015, nmi = 0.24, mod=0.02033372912965787\n",
      "Epoch   25, loss.full = 0.2484, nmi = 0.38, mod=0.05030711706183518\n",
      "Epoch   50, loss.full = 0.2346, nmi = 0.40, mod=0.07127027173154399\n",
      "Epoch   75, loss.full = 0.2318, nmi = 0.38, mod=0.026761268376556017\n",
      "Epoch  100, loss.full = 0.2290, nmi = 0.41, mod=0.04365701004123482\n",
      "Epoch  125, loss.full = 0.2267, nmi = 0.40, mod=0.03248857840885099\n",
      "Epoch  150, loss.full = 0.2240, nmi = 0.42, mod=0.06211256536208378\n",
      "Epoch  175, loss.full = 0.2222, nmi = 0.42, mod=0.07911905120590901\n",
      "Epoch  200, loss.full = 0.2221, nmi = 0.41, mod=0.10102363170781568\n",
      "Epoch  225, loss.full = 0.2210, nmi = 0.40, mod=0.10128661177482873\n",
      "Epoch  250, loss.full = 0.2200, nmi = 0.41, mod=0.12997165744694017\n",
      "Epoch  275, loss.full = 0.2201, nmi = 0.41, mod=0.12443206506939078\n",
      "Epoch  300, loss.full = 0.2192, nmi = 0.42, mod=0.1306066532591916\n",
      "Epoch  325, loss.full = 0.2189, nmi = 0.42, mod=0.10193744226184888\n",
      "Epoch  350, loss.full = 0.2179, nmi = 0.44, mod=0.12886257132289136\n",
      "Epoch  375, loss.full = 0.2179, nmi = 0.43, mod=0.12164612072213286\n",
      "Epoch  400, loss.full = 0.2172, nmi = 0.44, mod=0.11116075593618639\n",
      "Epoch  425, loss.full = 0.2262, nmi = 0.43, mod=0.09441254103980422\n",
      "Epoch  450, loss.full = 0.2196, nmi = 0.41, mod=0.08750563781423455\n",
      "Epoch  475, loss.full = 0.2170, nmi = 0.42, mod=0.12999754793572105\n",
      "Epoch  500, loss.full = 0.2164, nmi = 0.41, mod=0.09997550656036065\n",
      "best nmi:  0.41804406187774634\n",
      "best mod:  0.1306066532591916\n",
      "last nmi:  0.40763294681908663\n",
      "iter:  33\n"
     ]
    },
    {
     "name": "stderr",
     "output_type": "stream",
     "text": [
      "100%|██████████| 755/755 [00:03<00:00, 221.71it/s]\n"
     ]
    },
    {
     "name": "stdout",
     "output_type": "stream",
     "text": [
      "Epoch    0, loss.full = 1.7209, nmi = 0.25, mod=0.017040725760546\n",
      "Epoch   25, loss.full = 0.2538, nmi = 0.36, mod=0.03456259350091333\n",
      "Epoch   50, loss.full = 0.2332, nmi = 0.36, mod=0.07010759142669161\n",
      "Epoch   75, loss.full = 0.2292, nmi = 0.36, mod=0.03946387359554017\n",
      "Epoch  100, loss.full = 0.2266, nmi = 0.40, mod=0.05717703832549731\n",
      "Epoch  125, loss.full = 0.2249, nmi = 0.37, mod=0.06018896507390185\n",
      "Epoch  150, loss.full = 0.2235, nmi = 0.38, mod=0.06445478067965883\n",
      "Epoch  175, loss.full = 0.2239, nmi = 0.39, mod=0.06810245178978229\n",
      "Epoch  200, loss.full = 0.2216, nmi = 0.38, mod=0.0642337804893036\n",
      "Epoch  225, loss.full = 0.2206, nmi = 0.38, mod=0.06819326271591496\n",
      "Epoch  250, loss.full = 0.2200, nmi = 0.38, mod=0.05173908324701834\n",
      "Epoch  275, loss.full = 0.2193, nmi = 0.39, mod=0.05808912725570386\n",
      "Epoch  300, loss.full = 0.2188, nmi = 0.39, mod=0.07731003820615216\n",
      "Epoch  325, loss.full = 0.2179, nmi = 0.38, mod=0.08642950097291761\n",
      "Epoch  350, loss.full = 0.2175, nmi = 0.38, mod=0.08159933370268029\n",
      "Epoch  375, loss.full = 0.2169, nmi = 0.38, mod=0.08445277907845289\n",
      "Epoch  400, loss.full = 0.2166, nmi = 0.38, mod=0.10212124220234925\n",
      "Epoch  425, loss.full = 0.2162, nmi = 0.38, mod=0.08926320251658945\n",
      "Epoch  450, loss.full = 0.2171, nmi = 0.38, mod=0.10107826726213237\n",
      "Epoch  475, loss.full = 0.2159, nmi = 0.38, mod=0.09094952616488462\n",
      "Epoch  500, loss.full = 0.2152, nmi = 0.37, mod=0.09022262542614555\n",
      "best nmi:  0.382192358083572\n",
      "best mod:  0.10212124220234925\n",
      "last nmi:  0.3851968908273057\n",
      "iter:  34\n"
     ]
    },
    {
     "name": "stderr",
     "output_type": "stream",
     "text": [
      "100%|██████████| 755/755 [00:03<00:00, 208.99it/s]\n"
     ]
    },
    {
     "name": "stdout",
     "output_type": "stream",
     "text": [
      "Epoch    0, loss.full = 1.1878, nmi = 0.25, mod=0.020806718895206796\n",
      "Epoch   25, loss.full = 0.2474, nmi = 0.36, mod=0.025969547898858004\n",
      "Epoch   50, loss.full = 0.2347, nmi = 0.37, mod=0.014972521839650477\n",
      "Epoch   75, loss.full = 0.2316, nmi = 0.40, mod=0.0378304475805209\n",
      "Epoch  100, loss.full = 0.2289, nmi = 0.39, mod=0.05093573617484324\n",
      "Epoch  125, loss.full = 0.2259, nmi = 0.40, mod=0.06084124852227144\n",
      "Epoch  150, loss.full = 0.2235, nmi = 0.39, mod=0.0445691511216611\n",
      "Epoch  175, loss.full = 0.2208, nmi = 0.41, mod=0.07132983606546206\n",
      "Epoch  200, loss.full = 0.2192, nmi = 0.41, mod=0.06070161909691989\n",
      "Epoch  225, loss.full = 0.2183, nmi = 0.39, mod=0.052813861029894965\n",
      "Epoch  250, loss.full = 0.2175, nmi = 0.39, mod=0.08433931877764227\n",
      "Epoch  275, loss.full = 0.2173, nmi = 0.41, mod=0.09238219450478151\n",
      "Epoch  300, loss.full = 0.2167, nmi = 0.40, mod=0.08142503399545352\n",
      "Epoch  325, loss.full = 0.2242, nmi = 0.37, mod=0.09548555430665316\n",
      "Epoch  350, loss.full = 0.2171, nmi = 0.42, mod=0.11101661303852668\n",
      "Epoch  375, loss.full = 0.2154, nmi = 0.41, mod=0.09121216053115665\n",
      "Epoch  400, loss.full = 0.2161, nmi = 0.40, mod=0.05454597243518771\n",
      "Epoch  425, loss.full = 0.2146, nmi = 0.38, mod=0.07902186952242608\n",
      "Epoch  450, loss.full = 0.2143, nmi = 0.38, mod=0.0793202085603231\n",
      "Epoch  475, loss.full = 0.2150, nmi = 0.40, mod=0.11318843822334719\n",
      "Epoch  500, loss.full = 0.2135, nmi = 0.41, mod=0.07991250896537622\n",
      "best nmi:  0.39795330154739367\n",
      "best mod:  0.11318843822334719\n",
      "last nmi:  0.40197766020159414\n",
      "iter:  35\n"
     ]
    },
    {
     "name": "stderr",
     "output_type": "stream",
     "text": [
      "100%|██████████| 755/755 [00:03<00:00, 220.95it/s]\n"
     ]
    },
    {
     "name": "stdout",
     "output_type": "stream",
     "text": [
      "Epoch    0, loss.full = 1.3557, nmi = 0.23, mod=0.019811529577712476\n",
      "Epoch   25, loss.full = 0.2492, nmi = 0.37, mod=0.046353577877895936\n",
      "Epoch   50, loss.full = 0.2360, nmi = 0.40, mod=0.04043877150807504\n",
      "Epoch   75, loss.full = 0.2324, nmi = 0.38, mod=0.027462081300108555\n",
      "Epoch  100, loss.full = 0.2296, nmi = 0.37, mod=0.05441969268278263\n",
      "Epoch  125, loss.full = 0.2277, nmi = 0.37, mod=0.06492531610021016\n",
      "Epoch  150, loss.full = 0.2249, nmi = 0.38, mod=0.06250862114372174\n",
      "Epoch  175, loss.full = 0.2238, nmi = 0.39, mod=0.06628941263102034\n",
      "Epoch  200, loss.full = 0.2218, nmi = 0.38, mod=0.07393189344140869\n",
      "Epoch  225, loss.full = 0.2208, nmi = 0.39, mod=0.07111114498928829\n",
      "Epoch  250, loss.full = 0.2205, nmi = 0.38, mod=0.07581513766916927\n",
      "Epoch  275, loss.full = 0.2194, nmi = 0.39, mod=0.08930785770003072\n",
      "Epoch  300, loss.full = 0.2187, nmi = 0.38, mod=0.07288573519157543\n",
      "Epoch  325, loss.full = 0.2193, nmi = 0.37, mod=0.040275137448972896\n",
      "Epoch  350, loss.full = 0.2183, nmi = 0.38, mod=0.04965547724974031\n",
      "Epoch  375, loss.full = 0.2174, nmi = 0.39, mod=0.06472160189412166\n",
      "Epoch  400, loss.full = 0.2169, nmi = 0.39, mod=0.0677897842533183\n",
      "Epoch  425, loss.full = 0.2168, nmi = 0.38, mod=0.06598296646834786\n",
      "Epoch  450, loss.full = 0.2166, nmi = 0.39, mod=0.06389456518919609\n",
      "Epoch  475, loss.full = 0.2166, nmi = 0.37, mod=0.052254074488244914\n",
      "Epoch  500, loss.full = 0.2163, nmi = 0.39, mod=0.046777389429317674\n",
      "best nmi:  0.3908231724609077\n",
      "best mod:  0.08930785770003072\n",
      "last nmi:  0.39423220728861225\n",
      "iter:  36\n"
     ]
    },
    {
     "name": "stderr",
     "output_type": "stream",
     "text": [
      "100%|██████████| 755/755 [00:03<00:00, 211.69it/s]\n"
     ]
    },
    {
     "name": "stdout",
     "output_type": "stream",
     "text": [
      "Epoch    0, loss.full = 1.8483, nmi = 0.25, mod=0.01931150929027443\n",
      "Epoch   25, loss.full = 0.2512, nmi = 0.36, mod=0.03275395445138386\n",
      "Epoch   50, loss.full = 0.2332, nmi = 0.37, mod=0.03971162085932802\n",
      "Epoch   75, loss.full = 0.2299, nmi = 0.38, mod=0.05540581111440576\n",
      "Epoch  100, loss.full = 0.2275, nmi = 0.38, mod=0.06946009983490944\n",
      "Epoch  125, loss.full = 0.2258, nmi = 0.39, mod=0.0781556452524081\n",
      "Epoch  150, loss.full = 0.2242, nmi = 0.39, mod=0.029326521730741656\n",
      "Epoch  175, loss.full = 0.2230, nmi = 0.40, mod=0.06914596417122362\n",
      "Epoch  200, loss.full = 0.2212, nmi = 0.40, mod=0.07138860003886034\n",
      "Epoch  225, loss.full = 0.2202, nmi = 0.39, mod=0.062240010460773064\n",
      "Epoch  250, loss.full = 0.2193, nmi = 0.40, mod=0.09019348851429672\n",
      "Epoch  275, loss.full = 0.2184, nmi = 0.38, mod=0.07554155827343009\n",
      "Epoch  300, loss.full = 0.2193, nmi = 0.39, mod=0.06889595924938342\n",
      "Epoch  325, loss.full = 0.2176, nmi = 0.37, mod=0.07415128236673887\n",
      "Epoch  350, loss.full = 0.2176, nmi = 0.39, mod=0.0979608937590651\n",
      "Epoch  375, loss.full = 0.2170, nmi = 0.40, mod=0.09527787854850345\n",
      "Epoch  400, loss.full = 0.2169, nmi = 0.41, mod=0.11413608593414583\n",
      "Epoch  425, loss.full = 0.2162, nmi = 0.41, mod=0.11705708638407573\n",
      "Epoch  450, loss.full = 0.2162, nmi = 0.41, mod=0.11805012633875923\n",
      "Epoch  475, loss.full = 0.2156, nmi = 0.40, mod=0.11222173181250865\n",
      "Epoch  500, loss.full = 0.2153, nmi = 0.41, mod=0.12519020842540454\n",
      "best nmi:  0.4055562714912825\n",
      "best mod:  0.12519020842540454\n",
      "last nmi:  0.40459103105726263\n",
      "iter:  37\n"
     ]
    },
    {
     "name": "stderr",
     "output_type": "stream",
     "text": [
      "100%|██████████| 755/755 [00:03<00:00, 218.20it/s]\n"
     ]
    },
    {
     "name": "stdout",
     "output_type": "stream",
     "text": [
      "Epoch    0, loss.full = 1.1758, nmi = 0.22, mod=0.018060525438125828\n",
      "Epoch   25, loss.full = 0.2453, nmi = 0.35, mod=0.037903997002015924\n",
      "Epoch   50, loss.full = 0.2346, nmi = 0.36, mod=0.04784680346366976\n",
      "Epoch   75, loss.full = 0.2314, nmi = 0.36, mod=0.03623981735598821\n",
      "Epoch  100, loss.full = 0.2282, nmi = 0.38, mod=0.029198404933953127\n",
      "Epoch  125, loss.full = 0.2249, nmi = 0.37, mod=0.052626459785219064\n",
      "Epoch  150, loss.full = 0.2235, nmi = 0.35, mod=0.05659615708858603\n",
      "Epoch  175, loss.full = 0.2220, nmi = 0.35, mod=0.06348452277859183\n",
      "Epoch  200, loss.full = 0.2211, nmi = 0.36, mod=0.05290522788659884\n",
      "Epoch  225, loss.full = 0.2206, nmi = 0.36, mod=0.057270559587224275\n",
      "Epoch  250, loss.full = 0.2200, nmi = 0.36, mod=0.07728137935430676\n",
      "Epoch  275, loss.full = 0.2204, nmi = 0.37, mod=0.07990545948807412\n",
      "Epoch  300, loss.full = 0.2187, nmi = 0.37, mod=0.08837501368677833\n",
      "Epoch  325, loss.full = 0.2183, nmi = 0.35, mod=0.09256270409382877\n",
      "Epoch  350, loss.full = 0.2177, nmi = 0.38, mod=0.09274825468796268\n",
      "Epoch  375, loss.full = 0.2170, nmi = 0.36, mod=0.10440508495411073\n",
      "Epoch  400, loss.full = 0.2165, nmi = 0.37, mod=0.08606353890595686\n",
      "Epoch  425, loss.full = 0.2165, nmi = 0.38, mod=0.07090364271154535\n",
      "Epoch  450, loss.full = 0.2159, nmi = 0.36, mod=0.07440596341721958\n",
      "Epoch  475, loss.full = 0.2156, nmi = 0.39, mod=0.08636842979340745\n",
      "Epoch  500, loss.full = 0.2167, nmi = 0.39, mod=0.08691195692119227\n",
      "best nmi:  0.363519378267329\n",
      "best mod:  0.10440508495411073\n",
      "last nmi:  0.40322105370172445\n",
      "iter:  38\n"
     ]
    },
    {
     "name": "stderr",
     "output_type": "stream",
     "text": [
      "100%|██████████| 755/755 [00:03<00:00, 219.92it/s]\n"
     ]
    },
    {
     "name": "stdout",
     "output_type": "stream",
     "text": [
      "Epoch    0, loss.full = 1.3611, nmi = 0.23, mod=0.01434919367576807\n",
      "Epoch   25, loss.full = 0.2454, nmi = 0.36, mod=0.01266251407789331\n",
      "Epoch   50, loss.full = 0.2314, nmi = 0.38, mod=0.028831392865453047\n",
      "Epoch   75, loss.full = 0.2281, nmi = 0.40, mod=0.048420695497507826\n",
      "Epoch  100, loss.full = 0.2257, nmi = 0.39, mod=0.06282226880100886\n",
      "Epoch  125, loss.full = 0.2233, nmi = 0.36, mod=0.05512483527397777\n",
      "Epoch  150, loss.full = 0.2217, nmi = 0.37, mod=0.04429043092941457\n",
      "Epoch  175, loss.full = 0.2202, nmi = 0.37, mod=0.0477677631019903\n",
      "Epoch  200, loss.full = 0.2199, nmi = 0.37, mod=0.060157621105108534\n",
      "Epoch  225, loss.full = 0.2225, nmi = 0.37, mod=0.057293032296351985\n",
      "Epoch  250, loss.full = 0.2189, nmi = 0.38, mod=0.05070479848669148\n",
      "Epoch  275, loss.full = 0.2178, nmi = 0.36, mod=0.0443450797579661\n",
      "Epoch  300, loss.full = 0.2169, nmi = 0.37, mod=0.04859125220604987\n",
      "Epoch  325, loss.full = 0.2174, nmi = 0.36, mod=0.054484862596958596\n",
      "Epoch  350, loss.full = 0.2200, nmi = 0.40, mod=0.06523511949613703\n",
      "Epoch  375, loss.full = 0.2162, nmi = 0.39, mod=0.08098176588344708\n",
      "Epoch  400, loss.full = 0.2157, nmi = 0.38, mod=0.08029088415777777\n",
      "Epoch  425, loss.full = 0.2152, nmi = 0.38, mod=0.07875272435694185\n",
      "Epoch  450, loss.full = 0.2149, nmi = 0.38, mod=0.0826530409251692\n",
      "Epoch  475, loss.full = 0.2143, nmi = 0.39, mod=0.09287688392391014\n",
      "Epoch  500, loss.full = 0.2138, nmi = 0.38, mod=0.07276683672020465\n",
      "best nmi:  0.3899190347296679\n",
      "best mod:  0.09287688392391014\n",
      "last nmi:  0.37975116924012653\n",
      "iter:  39\n"
     ]
    },
    {
     "name": "stderr",
     "output_type": "stream",
     "text": [
      "100%|██████████| 755/755 [00:03<00:00, 219.54it/s]\n"
     ]
    },
    {
     "name": "stdout",
     "output_type": "stream",
     "text": [
      "Epoch    0, loss.full = 1.5013, nmi = 0.27, mod=0.03214149840355016\n",
      "Epoch   25, loss.full = 0.2554, nmi = 0.35, mod=0.037807486003289065\n",
      "Epoch   50, loss.full = 0.2324, nmi = 0.38, mod=0.056548646457910565\n",
      "Epoch   75, loss.full = 0.2289, nmi = 0.38, mod=0.04936118971692015\n",
      "Epoch  100, loss.full = 0.2271, nmi = 0.38, mod=0.06471412101957189\n",
      "Epoch  125, loss.full = 0.2259, nmi = 0.39, mod=0.05705010573376853\n",
      "Epoch  150, loss.full = 0.2246, nmi = 0.41, mod=0.0674101166766643\n",
      "Epoch  175, loss.full = 0.2225, nmi = 0.40, mod=0.08097545160975954\n",
      "Epoch  200, loss.full = 0.2208, nmi = 0.38, mod=0.0779284544100798\n",
      "Epoch  225, loss.full = 0.2199, nmi = 0.39, mod=0.07073293977325208\n",
      "Epoch  250, loss.full = 0.2189, nmi = 0.40, mod=0.08112723292671382\n",
      "Epoch  275, loss.full = 0.2181, nmi = 0.39, mod=0.0843486733231666\n",
      "Epoch  300, loss.full = 0.2175, nmi = 0.38, mod=0.0759602642703525\n",
      "Epoch  325, loss.full = 0.2169, nmi = 0.37, mod=0.08258105075074379\n",
      "Epoch  350, loss.full = 0.2166, nmi = 0.37, mod=0.07844163218539123\n",
      "Epoch  375, loss.full = 0.2173, nmi = 0.39, mod=0.09097341383314662\n",
      "Epoch  400, loss.full = 0.2159, nmi = 0.39, mod=0.09095911650991555\n",
      "Epoch  425, loss.full = 0.2155, nmi = 0.39, mod=0.09855939190612414\n",
      "Epoch  450, loss.full = 0.2150, nmi = 0.39, mod=0.0890487789588526\n",
      "Epoch  475, loss.full = 0.2158, nmi = 0.39, mod=0.09231909139344703\n",
      "Epoch  500, loss.full = 0.2147, nmi = 0.40, mod=0.10564246792857894\n",
      "best nmi:  0.4007784003737326\n",
      "best mod:  0.10564246792857894\n",
      "last nmi:  0.3995393742630601\n",
      "iter:  40\n"
     ]
    },
    {
     "name": "stderr",
     "output_type": "stream",
     "text": [
      "100%|██████████| 755/755 [00:03<00:00, 216.49it/s]\n"
     ]
    },
    {
     "name": "stdout",
     "output_type": "stream",
     "text": [
      "Epoch    0, loss.full = 1.2589, nmi = 0.26, mod=0.022412825758228238\n",
      "Epoch   25, loss.full = 0.2439, nmi = 0.35, mod=0.04151346599642923\n",
      "Epoch   50, loss.full = 0.2338, nmi = 0.37, mod=0.06539781167428817\n",
      "Epoch   75, loss.full = 0.2310, nmi = 0.39, mod=0.07574883297005032\n",
      "Epoch  100, loss.full = 0.2288, nmi = 0.41, mod=0.0849027556501536\n",
      "Epoch  125, loss.full = 0.2263, nmi = 0.42, mod=0.06935013056185843\n",
      "Epoch  150, loss.full = 0.2235, nmi = 0.41, mod=0.05895980339735449\n",
      "Epoch  175, loss.full = 0.2219, nmi = 0.40, mod=0.06246634574446733\n",
      "Epoch  200, loss.full = 0.2203, nmi = 0.40, mod=0.07758818549495239\n",
      "Epoch  225, loss.full = 0.2198, nmi = 0.39, mod=0.08534325590763556\n",
      "Epoch  250, loss.full = 0.2202, nmi = 0.39, mod=0.10509020070556156\n",
      "Epoch  275, loss.full = 0.2180, nmi = 0.39, mod=0.10079234364909459\n",
      "Epoch  300, loss.full = 0.2169, nmi = 0.39, mod=0.1026024722204797\n",
      "Epoch  325, loss.full = 0.2162, nmi = 0.37, mod=0.08261697289728456\n",
      "Epoch  350, loss.full = 0.2164, nmi = 0.38, mod=0.08939073579246959\n",
      "Epoch  375, loss.full = 0.2156, nmi = 0.38, mod=0.0852154325395367\n",
      "Epoch  400, loss.full = 0.2151, nmi = 0.38, mod=0.0790770540637937\n",
      "Epoch  425, loss.full = 0.2153, nmi = 0.38, mod=0.07802418147892305\n",
      "Epoch  450, loss.full = 0.2143, nmi = 0.38, mod=0.08388364975031527\n",
      "Epoch  475, loss.full = 0.2184, nmi = 0.38, mod=0.06157074777275239\n",
      "Epoch  500, loss.full = 0.2144, nmi = 0.38, mod=0.07976310434444157\n",
      "best nmi:  0.39274099746463353\n",
      "best mod:  0.10509020070556156\n",
      "last nmi:  0.38231174847211297\n",
      "iter:  41\n"
     ]
    },
    {
     "name": "stderr",
     "output_type": "stream",
     "text": [
      "100%|██████████| 755/755 [00:03<00:00, 224.53it/s]\n"
     ]
    },
    {
     "name": "stdout",
     "output_type": "stream",
     "text": [
      "Epoch    0, loss.full = 1.3191, nmi = 0.24, mod=0.02285354529308653\n",
      "Epoch   25, loss.full = 0.2473, nmi = 0.38, mod=0.04724246360220666\n",
      "Epoch   50, loss.full = 0.2323, nmi = 0.39, mod=0.05123935711455012\n",
      "Epoch   75, loss.full = 0.2294, nmi = 0.38, mod=0.0704662681322635\n",
      "Epoch  100, loss.full = 0.2267, nmi = 0.38, mod=0.05880560390143906\n",
      "Epoch  125, loss.full = 0.2248, nmi = 0.37, mod=0.04484967220944952\n",
      "Epoch  150, loss.full = 0.2231, nmi = 0.37, mod=0.055218590692441116\n",
      "Epoch  175, loss.full = 0.2213, nmi = 0.38, mod=0.07024277527545951\n",
      "Epoch  200, loss.full = 0.2200, nmi = 0.39, mod=0.06087097391179124\n",
      "Epoch  225, loss.full = 0.2193, nmi = 0.38, mod=0.05704633447046755\n",
      "Epoch  250, loss.full = 0.2180, nmi = 0.40, mod=0.07276787743852536\n",
      "Epoch  275, loss.full = 0.2175, nmi = 0.39, mod=0.0859612665530953\n",
      "Epoch  300, loss.full = 0.2168, nmi = 0.40, mod=0.07937709196238794\n",
      "Epoch  325, loss.full = 0.2227, nmi = 0.40, mod=0.09846932662046474\n",
      "Epoch  350, loss.full = 0.2166, nmi = 0.42, mod=0.1035276080583758\n",
      "Epoch  375, loss.full = 0.2155, nmi = 0.42, mod=0.09436504935516399\n",
      "Epoch  400, loss.full = 0.2152, nmi = 0.41, mod=0.09001480507889295\n",
      "Epoch  425, loss.full = 0.2149, nmi = 0.41, mod=0.06517279727858664\n",
      "Epoch  450, loss.full = 0.2146, nmi = 0.41, mod=0.07026394044882216\n",
      "Epoch  475, loss.full = 0.2148, nmi = 0.41, mod=0.07587655935199657\n",
      "Epoch  500, loss.full = 0.2142, nmi = 0.40, mod=0.06445944894671744\n",
      "best nmi:  0.41665662768267114\n",
      "best mod:  0.1035276080583758\n",
      "last nmi:  0.39761433514326594\n",
      "iter:  42\n"
     ]
    },
    {
     "name": "stderr",
     "output_type": "stream",
     "text": [
      "100%|██████████| 755/755 [00:03<00:00, 221.16it/s]\n"
     ]
    },
    {
     "name": "stdout",
     "output_type": "stream",
     "text": [
      "Epoch    0, loss.full = 1.0349, nmi = 0.25, mod=0.023453022793607194\n",
      "Epoch   25, loss.full = 0.2467, nmi = 0.34, mod=0.042062760621900404\n",
      "Epoch   50, loss.full = 0.2336, nmi = 0.34, mod=0.05449414830829268\n",
      "Epoch   75, loss.full = 0.2305, nmi = 0.36, mod=0.04137806467623599\n",
      "Epoch  100, loss.full = 0.2275, nmi = 0.35, mod=0.06285794038494612\n",
      "Epoch  125, loss.full = 0.2253, nmi = 0.35, mod=0.04823452097675839\n",
      "Epoch  150, loss.full = 0.2227, nmi = 0.37, mod=0.06782186345105026\n",
      "Epoch  175, loss.full = 0.2207, nmi = 0.38, mod=0.09382835619552554\n",
      "Epoch  200, loss.full = 0.2195, nmi = 0.37, mod=0.09550611384759096\n",
      "Epoch  225, loss.full = 0.2188, nmi = 0.38, mod=0.08090007438891063\n",
      "Epoch  250, loss.full = 0.2175, nmi = 0.38, mod=0.07293903332630101\n",
      "Epoch  275, loss.full = 0.2171, nmi = 0.37, mod=0.09966765071639559\n",
      "Epoch  300, loss.full = 0.2167, nmi = 0.38, mod=0.11739082975331183\n",
      "Epoch  325, loss.full = 0.2160, nmi = 0.38, mod=0.13160316727907714\n",
      "Epoch  350, loss.full = 0.2155, nmi = 0.38, mod=0.1198335894003682\n",
      "Epoch  375, loss.full = 0.2152, nmi = 0.38, mod=0.12449014994202355\n",
      "Epoch  400, loss.full = 0.2150, nmi = 0.38, mod=0.10747407302004379\n",
      "Epoch  425, loss.full = 0.2141, nmi = 0.38, mod=0.12345247860618917\n",
      "Epoch  450, loss.full = 0.2147, nmi = 0.38, mod=0.1124800181549619\n",
      "Epoch  475, loss.full = 0.2143, nmi = 0.38, mod=0.11668940721099104\n",
      "Epoch  500, loss.full = 0.2136, nmi = 0.38, mod=0.12760490339714367\n",
      "best nmi:  0.3797000172362862\n",
      "best mod:  0.13160316727907714\n",
      "last nmi:  0.38457412516881057\n",
      "iter:  43\n"
     ]
    },
    {
     "name": "stderr",
     "output_type": "stream",
     "text": [
      "100%|██████████| 755/755 [00:03<00:00, 222.35it/s]\n"
     ]
    },
    {
     "name": "stdout",
     "output_type": "stream",
     "text": [
      "Epoch    0, loss.full = 1.4402, nmi = 0.22, mod=0.017229991515923884\n",
      "Epoch   25, loss.full = 0.2500, nmi = 0.34, mod=0.02781513458631661\n",
      "Epoch   50, loss.full = 0.2366, nmi = 0.37, mod=0.039668129428586295\n",
      "Epoch   75, loss.full = 0.2332, nmi = 0.42, mod=0.04324061226004763\n",
      "Epoch  100, loss.full = 0.2311, nmi = 0.40, mod=0.06268412857107207\n",
      "Epoch  125, loss.full = 0.2290, nmi = 0.42, mod=0.06440726100273192\n",
      "Epoch  150, loss.full = 0.2272, nmi = 0.41, mod=0.05072906494421276\n",
      "Epoch  175, loss.full = 0.2257, nmi = 0.42, mod=0.050938785782116566\n",
      "Epoch  200, loss.full = 0.2242, nmi = 0.42, mod=0.07041510960311845\n",
      "Epoch  225, loss.full = 0.2229, nmi = 0.42, mod=0.04476395836601265\n",
      "Epoch  250, loss.full = 0.2213, nmi = 0.41, mod=0.08367410239952319\n",
      "Epoch  275, loss.full = 0.2200, nmi = 0.41, mod=0.06847120543665622\n",
      "Epoch  300, loss.full = 0.2196, nmi = 0.41, mod=0.03700426257020333\n",
      "Epoch  325, loss.full = 0.2189, nmi = 0.42, mod=0.06084841351603134\n",
      "Epoch  350, loss.full = 0.2184, nmi = 0.42, mod=0.030600787161053807\n",
      "Epoch  375, loss.full = 0.2172, nmi = 0.38, mod=0.04769899717277307\n",
      "Epoch  400, loss.full = 0.2170, nmi = 0.39, mod=0.060587141300043154\n",
      "Epoch  425, loss.full = 0.2165, nmi = 0.38, mod=0.051570933947401414\n",
      "Epoch  450, loss.full = 0.2160, nmi = 0.40, mod=0.08884825699155381\n",
      "Epoch  475, loss.full = 0.2157, nmi = 0.39, mod=0.07649612553691758\n",
      "Epoch  500, loss.full = 0.2154, nmi = 0.40, mod=0.08773787859802319\n",
      "best nmi:  0.39650121867187793\n",
      "best mod:  0.08884825699155381\n",
      "last nmi:  0.4017797507542272\n",
      "iter:  44\n"
     ]
    },
    {
     "name": "stderr",
     "output_type": "stream",
     "text": [
      "100%|██████████| 755/755 [00:03<00:00, 221.55it/s]\n"
     ]
    },
    {
     "name": "stdout",
     "output_type": "stream",
     "text": [
      "Epoch    0, loss.full = 1.3639, nmi = 0.23, mod=-0.0030782790188073443\n",
      "Epoch   25, loss.full = 0.2465, nmi = 0.37, mod=0.03573151443164351\n",
      "Epoch   50, loss.full = 0.2335, nmi = 0.38, mod=0.04566710261777867\n",
      "Epoch   75, loss.full = 0.2305, nmi = 0.37, mod=0.05626926176023222\n",
      "Epoch  100, loss.full = 0.2283, nmi = 0.39, mod=0.059829386220293095\n",
      "Epoch  125, loss.full = 0.2252, nmi = 0.39, mod=0.04908524578875431\n",
      "Epoch  150, loss.full = 0.2244, nmi = 0.39, mod=0.05345948879850491\n",
      "Epoch  175, loss.full = 0.2215, nmi = 0.39, mod=0.051311227095268246\n",
      "Epoch  200, loss.full = 0.2208, nmi = 0.40, mod=0.0418836788631163\n",
      "Epoch  225, loss.full = 0.2194, nmi = 0.42, mod=0.0716209320708867\n",
      "Epoch  250, loss.full = 0.2188, nmi = 0.41, mod=0.08085448569612882\n",
      "Epoch  275, loss.full = 0.2184, nmi = 0.41, mod=0.09842543256546844\n",
      "Epoch  300, loss.full = 0.2173, nmi = 0.42, mod=0.10684738057663014\n",
      "Epoch  325, loss.full = 0.2173, nmi = 0.40, mod=0.09314156606100847\n",
      "Epoch  350, loss.full = 0.2272, nmi = 0.42, mod=0.12032200840613361\n",
      "Epoch  375, loss.full = 0.2163, nmi = 0.40, mod=0.129035055623483\n",
      "Epoch  400, loss.full = 0.2155, nmi = 0.41, mod=0.09434692249576317\n",
      "Epoch  425, loss.full = 0.2151, nmi = 0.40, mod=0.08350887194015667\n",
      "Epoch  450, loss.full = 0.2153, nmi = 0.39, mod=0.08718879011811358\n",
      "Epoch  475, loss.full = 0.2154, nmi = 0.38, mod=0.09528726583944927\n",
      "Epoch  500, loss.full = 0.2142, nmi = 0.40, mod=0.09158494863781629\n",
      "best nmi:  0.40466987856676573\n",
      "best mod:  0.129035055623483\n",
      "last nmi:  0.3947472501422409\n",
      "iter:  45\n"
     ]
    },
    {
     "name": "stderr",
     "output_type": "stream",
     "text": [
      "100%|██████████| 755/755 [00:03<00:00, 217.72it/s]\n"
     ]
    },
    {
     "name": "stdout",
     "output_type": "stream",
     "text": [
      "Epoch    0, loss.full = 1.5356, nmi = 0.25, mod=0.02107235715677655\n",
      "Epoch   25, loss.full = 0.2488, nmi = 0.36, mod=0.047383531697701875\n",
      "Epoch   50, loss.full = 0.2323, nmi = 0.36, mod=0.0768488644280476\n",
      "Epoch   75, loss.full = 0.2291, nmi = 0.35, mod=0.05509234456203044\n",
      "Epoch  100, loss.full = 0.2266, nmi = 0.36, mod=0.06911300241682031\n",
      "Epoch  125, loss.full = 0.2244, nmi = 0.38, mod=0.07545507740406597\n",
      "Epoch  150, loss.full = 0.2232, nmi = 0.38, mod=0.06661192745071784\n",
      "Epoch  175, loss.full = 0.2223, nmi = 0.39, mod=0.07588101530871336\n",
      "Epoch  200, loss.full = 0.2216, nmi = 0.38, mod=0.07476012787211839\n",
      "Epoch  225, loss.full = 0.2198, nmi = 0.39, mod=0.06805153229254862\n",
      "Epoch  250, loss.full = 0.2189, nmi = 0.39, mod=0.06632475914576745\n",
      "Epoch  275, loss.full = 0.2187, nmi = 0.40, mod=0.06372345361903779\n",
      "Epoch  300, loss.full = 0.2182, nmi = 0.42, mod=0.11500889120189446\n",
      "Epoch  325, loss.full = 0.2171, nmi = 0.41, mod=0.09320487862548557\n",
      "Epoch  350, loss.full = 0.2166, nmi = 0.43, mod=0.12053349577413044\n",
      "Epoch  375, loss.full = 0.2157, nmi = 0.41, mod=0.11584753144521627\n",
      "Epoch  400, loss.full = 0.2154, nmi = 0.40, mod=0.11196170360432242\n",
      "Epoch  425, loss.full = 0.2149, nmi = 0.40, mod=0.115409567032439\n",
      "Epoch  450, loss.full = 0.2169, nmi = 0.39, mod=0.11567634724447957\n",
      "Epoch  475, loss.full = 0.2149, nmi = 0.41, mod=0.12092826765394929\n",
      "Epoch  500, loss.full = 0.2148, nmi = 0.40, mod=0.09498607607552724\n",
      "best nmi:  0.4149570071142033\n",
      "best mod:  0.12092826765394929\n",
      "last nmi:  0.4046773242447592\n",
      "iter:  46\n"
     ]
    },
    {
     "name": "stderr",
     "output_type": "stream",
     "text": [
      "100%|██████████| 755/755 [00:03<00:00, 211.40it/s]\n"
     ]
    },
    {
     "name": "stdout",
     "output_type": "stream",
     "text": [
      "Epoch    0, loss.full = 1.5262, nmi = 0.23, mod=0.019606415830075673\n",
      "Epoch   25, loss.full = 0.2477, nmi = 0.34, mod=0.04157142515265931\n",
      "Epoch   50, loss.full = 0.2334, nmi = 0.35, mod=0.0549173898920263\n",
      "Epoch   75, loss.full = 0.2306, nmi = 0.37, mod=0.07577839368274919\n",
      "Epoch  100, loss.full = 0.2284, nmi = 0.36, mod=0.07684283148179598\n",
      "Epoch  125, loss.full = 0.2264, nmi = 0.36, mod=0.06964659873839374\n",
      "Epoch  150, loss.full = 0.2249, nmi = 0.37, mod=0.0536932147952083\n",
      "Epoch  175, loss.full = 0.2251, nmi = 0.38, mod=0.08145196570728552\n",
      "Epoch  200, loss.full = 0.2214, nmi = 0.39, mod=0.06863229611597708\n",
      "Epoch  225, loss.full = 0.2203, nmi = 0.40, mod=0.06579862861450586\n",
      "Epoch  250, loss.full = 0.2201, nmi = 0.39, mod=0.06082589718328413\n",
      "Epoch  275, loss.full = 0.2187, nmi = 0.40, mod=0.09976522740526343\n",
      "Epoch  300, loss.full = 0.2179, nmi = 0.42, mod=0.07296337511533492\n",
      "Epoch  325, loss.full = 0.2173, nmi = 0.41, mod=0.08130572789326747\n",
      "Epoch  350, loss.full = 0.2169, nmi = 0.39, mod=0.08104524746060328\n",
      "Epoch  375, loss.full = 0.2164, nmi = 0.37, mod=0.09211312551260771\n",
      "Epoch  400, loss.full = 0.2158, nmi = 0.39, mod=0.05919429657481775\n",
      "Epoch  425, loss.full = 0.2171, nmi = 0.39, mod=0.06876627626035589\n",
      "Epoch  450, loss.full = 0.2153, nmi = 0.40, mod=0.07881365040084466\n",
      "Epoch  475, loss.full = 0.2159, nmi = 0.39, mod=0.0713808595335373\n",
      "Epoch  500, loss.full = 0.2144, nmi = 0.40, mod=0.09733157177994611\n",
      "best nmi:  0.40283844828416066\n",
      "best mod:  0.09976522740526343\n",
      "last nmi:  0.3857627245409822\n",
      "iter:  47\n"
     ]
    },
    {
     "name": "stderr",
     "output_type": "stream",
     "text": [
      "100%|██████████| 755/755 [00:03<00:00, 222.36it/s]\n"
     ]
    },
    {
     "name": "stdout",
     "output_type": "stream",
     "text": [
      "Epoch    0, loss.full = 1.6144, nmi = 0.26, mod=0.02053219913798821\n",
      "Epoch   25, loss.full = 0.2559, nmi = 0.39, mod=0.03167233561312958\n",
      "Epoch   50, loss.full = 0.2358, nmi = 0.41, mod=0.05962349011428591\n",
      "Epoch   75, loss.full = 0.2322, nmi = 0.42, mod=0.08545278882562928\n",
      "Epoch  100, loss.full = 0.2291, nmi = 0.41, mod=0.046553966989218265\n",
      "Epoch  125, loss.full = 0.2292, nmi = 0.40, mod=0.04115429377125471\n",
      "Epoch  150, loss.full = 0.2266, nmi = 0.38, mod=0.06757741545479669\n",
      "Epoch  175, loss.full = 0.2246, nmi = 0.39, mod=0.06792979885784038\n",
      "Epoch  200, loss.full = 0.2233, nmi = 0.37, mod=0.07439617977518165\n",
      "Epoch  225, loss.full = 0.2221, nmi = 0.38, mod=0.07405683044922821\n",
      "Epoch  250, loss.full = 0.2206, nmi = 0.40, mod=0.06561203240318948\n",
      "Epoch  275, loss.full = 0.2198, nmi = 0.41, mod=0.07689205131180339\n",
      "Epoch  300, loss.full = 0.2216, nmi = 0.42, mod=0.10127200465096624\n",
      "Epoch  325, loss.full = 0.2183, nmi = 0.40, mod=0.1322468739349275\n",
      "Epoch  350, loss.full = 0.2175, nmi = 0.40, mod=0.07843690721679103\n",
      "Epoch  375, loss.full = 0.2172, nmi = 0.40, mod=0.10220799721842798\n",
      "Epoch  400, loss.full = 0.2169, nmi = 0.40, mod=0.09984291317798938\n",
      "Epoch  425, loss.full = 0.2165, nmi = 0.39, mod=0.09463080067448162\n",
      "Epoch  450, loss.full = 0.2160, nmi = 0.39, mod=0.09988722702565372\n",
      "Epoch  475, loss.full = 0.2167, nmi = 0.42, mod=0.06856038997453576\n",
      "Epoch  500, loss.full = 0.2158, nmi = 0.40, mod=0.12699293015230595\n",
      "best nmi:  0.3983133948050223\n",
      "best mod:  0.1322468739349275\n",
      "last nmi:  0.40355112147105\n",
      "iter:  48\n"
     ]
    },
    {
     "name": "stderr",
     "output_type": "stream",
     "text": [
      "100%|██████████| 755/755 [00:03<00:00, 232.86it/s]\n"
     ]
    },
    {
     "name": "stdout",
     "output_type": "stream",
     "text": [
      "Epoch    0, loss.full = 1.3618, nmi = 0.24, mod=0.015932994175128504\n",
      "Epoch   25, loss.full = 0.2513, nmi = 0.33, mod=0.02492738188210035\n",
      "Epoch   50, loss.full = 0.2352, nmi = 0.33, mod=0.019064322667906083\n",
      "Epoch   75, loss.full = 0.2322, nmi = 0.35, mod=0.04898570808254679\n",
      "Epoch  100, loss.full = 0.2295, nmi = 0.40, mod=0.0663208338396403\n",
      "Epoch  125, loss.full = 0.2270, nmi = 0.42, mod=0.04741103578829406\n",
      "Epoch  150, loss.full = 0.2250, nmi = 0.41, mod=0.06055691481104172\n",
      "Epoch  175, loss.full = 0.2223, nmi = 0.40, mod=0.04748833631330825\n",
      "Epoch  200, loss.full = 0.2210, nmi = 0.41, mod=0.04875430464487256\n",
      "Epoch  225, loss.full = 0.2200, nmi = 0.41, mod=0.059283860629722365\n",
      "Epoch  250, loss.full = 0.2205, nmi = 0.41, mod=0.06709070833629001\n",
      "Epoch  275, loss.full = 0.2195, nmi = 0.41, mod=0.10431712126320851\n",
      "Epoch  300, loss.full = 0.2182, nmi = 0.41, mod=0.082891648035627\n",
      "Epoch  325, loss.full = 0.2174, nmi = 0.40, mod=0.09066560269457284\n",
      "Epoch  350, loss.full = 0.2177, nmi = 0.41, mod=0.13457206355710663\n",
      "Epoch  375, loss.full = 0.2164, nmi = 0.41, mod=0.12786688159377302\n",
      "Epoch  400, loss.full = 0.2166, nmi = 0.41, mod=0.12105116687086687\n",
      "Epoch  425, loss.full = 0.2162, nmi = 0.41, mod=0.13901091900605186\n",
      "Epoch  450, loss.full = 0.2158, nmi = 0.42, mod=0.14959209127057513\n",
      "Epoch  475, loss.full = 0.2190, nmi = 0.41, mod=0.13914080751927022\n",
      "Epoch  500, loss.full = 0.2157, nmi = 0.42, mod=0.15051043477346085\n",
      "best nmi:  0.41573308816067867\n",
      "best mod:  0.15051043477346085\n",
      "last nmi:  0.4167458455401079\n",
      "iter:  49\n",
      "Done\n"
     ]
    }
   ],
   "source": [
    "\n",
    "best_thresh=0.5\n",
    "# # best_thresh = 0.8\n",
    "best_layer = best_avg_layer\n",
    "print(\"best thresh: \", best_thresh)\n",
    "print('best_layer: ', best_layer)\n",
    "nmi_arr = [] \n",
    "mod_arr = []\n",
    "nmi_arr_last = [ ]\n",
    "for t in range(niters):\n",
    "    best_nmi=0\n",
    "    best_mod = 0\n",
    "#     _, G = nocd.nn.models_deep.augment_graph_neighbors_with_degree(A)\n",
    "    _, G = nocd.nn.models_deep.augment_graph_weighted_facebook_random(A, k=2, G=Gw)\n",
    "\n",
    "\n",
    "    \n",
    "    x_norm = normalize(X)  # node features\n",
    "    x_norm = nocd.utils.to_sparse_tensor(x_norm).cuda()\n",
    "\n",
    "    sampler = nocd.sampler.get_edge_sampler(A, batch_size, batch_size, num_workers=5)\n",
    "    gnn = nocd.nn.models_deep.GCNRes(x_norm.shape[1], hidden_sizes, K, \n",
    "                                     batch_norm=batch_norm, dropout=dropout, layer_num=best_layer, g=G, d=2).cuda()\n",
    "    adj_norm = gnn.normalize_adj(A)\n",
    "    decoder = nocd.nn.BerpoDecoder(N, A.nnz, balance_loss=balance_loss)\n",
    "    opt = torch.optim.Adam(gnn.parameters(), lr=lr)\n",
    "\n",
    "    val_loss = np.inf\n",
    "    validation_fn = lambda: val_loss\n",
    "    early_stopping = nocd.train.NoImprovementStopping(validation_fn, patience=10)\n",
    "    model_saver = nocd.train.ModelSaver(gnn)\n",
    "    \n",
    "    \n",
    "    for epoch, batch in enumerate(sampler):\n",
    "        if epoch > max_epochs:\n",
    "            break\n",
    "        if epoch % 25 == 0:\n",
    "            with torch.no_grad():\n",
    "                gnn.eval()\n",
    "                # Compute validation loss\n",
    "                Z = F.relu(gnn(x_norm))\n",
    "                val_loss = decoder.loss_full(Z, A)\n",
    "                nmi=get_nmi(Z,best_thresh)\n",
    "                mod =  mod_overlap(Z,orG, best_thresh)\n",
    "                if(mod> best_mod):\n",
    "                    best_mod = mod\n",
    "                    best_nmi = nmi\n",
    "                    best_Z = Z.detach().clone()\n",
    "                    \n",
    "                    \n",
    "                print(f'Epoch {epoch:4d}, loss.full = {val_loss:.4f}, nmi = {nmi:.2f}, mod={mod}')\n",
    "\n",
    "                # Check if it's time for early stopping / to save the model\n",
    "                early_stopping.next_step()\n",
    "                if early_stopping.should_save():\n",
    "                    model_saver.save()\n",
    "                if early_stopping.should_stop():\n",
    "                    print(f'Breaking due to early stopping at epoch {epoch}')\n",
    "                    break\n",
    "\n",
    "        # Training step\n",
    "        gnn.train()\n",
    "        opt.zero_grad()\n",
    "        Z = F.relu(gnn(x_norm))\n",
    "        ones_idx, zeros_idx = batch\n",
    "        if stochastic_loss:\n",
    "           # loss = decoder.loss_batch(Z, ones_idx, zeros_idx)\n",
    "#             loss = decoder.loss_batch_triangles(Z, ones_idx, zeros_idx)\n",
    "#             print(f'Epoch {epoch:4d}, triangle loss = {loss:.4f}, nmi = {get_nmi(Z):.2f}')\n",
    "            loss = decoder.loss_batch(Z, ones_idx, zeros_idx)\n",
    "#             print(f'Epoch {epoch:4d}, edge loss = {loss1:.4f}, nmi = {get_nmi(Z):.2f}')\n",
    "#             loss =  loss +  loss1\n",
    "            # loss = (1/(0.01*epoch+1))* loss + loss1\n",
    "#             loss = 0.25 * loss + 0.75 * loss1\n",
    "\n",
    "#             print(f'Epoch {epoch:4d}, total loss = {loss:.4f}, nmi = {get_nmi(Z):.2f}')\n",
    "            # print(f'Epoch {epoch:4d}, (25, 75) total loss = {loss:.4f}, nmi = {get_nmi():.2f}')\n",
    "        else:\n",
    "            loss = decoder.loss_full(Z, A)\n",
    "        loss += nocd.utils.l2_reg_loss(gnn, scale=weight_decay)\n",
    "        loss.backward()\n",
    "        opt.step()\n",
    "      \n",
    "    Z = F.relu(gnn(x_norm))\n",
    "#     val_loss = decoder.loss_full(Z, A)\n",
    "    val=get_nmi(Z,best_thresh)\n",
    "#     best_nmi = val\n",
    "    nmi_arr.append(best_nmi)\n",
    "    mod_arr.append(best_mod)\n",
    "    nmi_arr_last.append(val) \n",
    "    print(\"best nmi: \", best_nmi)\n",
    "    print(\"best mod: \", best_mod)\n",
    "    print(\"last nmi: \", val)\n",
    "    \n",
    "    print('iter: ',t)\n",
    "\n",
    "print(\"Done\")\n",
    "\n"
   ]
  },
  {
   "cell_type": "code",
   "execution_count": 37,
   "metadata": {},
   "outputs": [
    {
     "name": "stdout",
     "output_type": "stream",
     "text": [
      "layer:  6\n",
      "best thresh:  0.5\n",
      "nmi: min, max, mean, std:  0.363519378267329 0.43844491163216254 0.39879680508147436 0.015151282980983645\n"
     ]
    }
   ],
   "source": [
    "min_nmi = np.min(nmi_arr)\n",
    "max_nmi = np.max(nmi_arr)\n",
    "mean_nmi =np.mean(nmi_arr)\n",
    "std_nmi =np.std(nmi_arr)\n",
    "print('layer: ', best_layer)\n",
    "print('best thresh: ', best_thresh)\n",
    "print('nmi: min, max, mean, std: ', min_nmi, max_nmi, mean_nmi, std_nmi)"
   ]
  },
  {
   "cell_type": "code",
   "execution_count": 38,
   "metadata": {},
   "outputs": [
    {
     "name": "stdout",
     "output_type": "stream",
     "text": [
      "layer:  6\n",
      "best thresh:  0.5\n",
      "mod: min, max, mean, std:  0.08685564471699746 0.15524074527285242 0.12000915733062906 0.01731756665025447\n"
     ]
    }
   ],
   "source": [
    "min_mod = np.min(mod_arr)\n",
    "max_mod = np.max(mod_arr)\n",
    "mean_mod =np.mean(mod_arr)\n",
    "std_mod =np.std(mod_arr)\n",
    "print('layer: ', best_layer)\n",
    "print('best thresh: ', best_thresh)\n",
    "print('mod: min, max, mean, std: ', min_mod, max_mod, mean_mod, std_mod)"
   ]
  },
  {
   "cell_type": "code",
   "execution_count": 39,
   "metadata": {},
   "outputs": [
    {
     "name": "stdout",
     "output_type": "stream",
     "text": [
      "layer:  6\n",
      "best thresh:  0.5\n",
      "last nmi: min, max, mean, std:  0.3599027783353926 0.4167458455401079 0.3947891567283793 0.015151282980983645\n"
     ]
    }
   ],
   "source": [
    "min_nmi = np.min(nmi_arr_last)\n",
    "max_nmi = np.max(nmi_arr_last)\n",
    "mean_nmi =np.mean(nmi_arr_last)\n",
    "std_nmi =np.std(nmi_arr)\n",
    "print('layer: ', best_layer)\n",
    "print('best thresh: ', best_thresh)\n",
    "print('last nmi: min, max, mean, std: ', min_nmi, max_nmi, mean_nmi, std_nmi)"
   ]
  }
 ],
 "metadata": {
  "kernelspec": {
   "display_name": "Python 3 (ipykernel)",
   "language": "python",
   "name": "python3"
  },
  "language_info": {
   "codemirror_mode": {
    "name": "ipython",
    "version": 3
   },
   "file_extension": ".py",
   "mimetype": "text/x-python",
   "name": "python",
   "nbconvert_exporter": "python",
   "pygments_lexer": "ipython3",
   "version": "3.7.13"
  },
  "toc": {
   "base_numbering": 1,
   "nav_menu": {},
   "number_sections": true,
   "sideBar": true,
   "skip_h1_title": false,
   "title_cell": "Table of Contents",
   "title_sidebar": "Contents",
   "toc_cell": false,
   "toc_position": {},
   "toc_section_display": true,
   "toc_window_display": false
  }
 },
 "nbformat": 4,
 "nbformat_minor": 2
}
